{
  "nbformat": 4,
  "nbformat_minor": 0,
  "metadata": {
    "colab": {
      "name": "Calculations2.ipynb",
      "provenance": []
    },
    "kernelspec": {
      "name": "python3",
      "display_name": "Python 3"
    },
    "language_info": {
      "name": "python"
    }
  },
  "cells": [
    {
      "cell_type": "code",
      "execution_count": null,
      "metadata": {
        "colab": {
          "base_uri": "https://localhost:8080/"
        },
        "id": "l0h0i8YsSdoh",
        "outputId": "873ca80e-0466-4a74-f9a7-0aecfbc777e7"
      },
      "outputs": [
        {
          "output_type": "stream",
          "name": "stdout",
          "text": [
            "28\n"
          ]
        }
      ],
      "source": [
        "#Write a Python program that accepts a string and calculate the number of digits and letters.\n",
        "#Sample Data: Python 3.2\n",
        "#Expected Output:\n",
        "#Letters 6\n",
        "#Digits 2\n",
        "\n",
        "s = input()\n",
        "\n",
        "l = 0 \n",
        "d = 0 \n",
        "\n",
        "for i in s:\n",
        "  if i.isletter():\n",
        "    l=l+1\n",
        "  else i.isdigit():\n",
        "    d=d+1\n",
        "\n",
        "print(\"letters\", l)\n",
        "print(\"digits\", d)"
      ]
    },
    {
      "cell_type": "code",
      "source": [
        "# Write a Python program to count the number of strings where the string length is 2 or more and the first and last character are same from a given list of strings.\n",
        "# Sample List : ['abc', 'xyz', 'aba', '1221']\n",
        "# Expected Result : 2\n",
        "\n",
        "for i in range (len(l)):\n",
        "  if l[i] <= t:\n",
        "    t = l[i]\n",
        "print(t)\n",
        "\n",
        "if len(strings) > 2 and len(strings[0]) == len(strings[3]):\n",
        " print (\"lstrings=\", lstrings)"
      ],
      "metadata": {
        "id": "eIwSD8NuEMWq"
      },
      "execution_count": null,
      "outputs": []
    },
    {
      "cell_type": "code",
      "source": [
        "# Write a Python program to check a given list of integers where the sum of the first i integers is i.\n",
        "Input:\n",
        "[0, 1, 2, 3, 4, 5]\n",
        "Output:\n",
        "False\n",
        "Input:\n",
        "[1, 1, 1, 1, 1, 1]\n",
        "Output:\n",
        "True\n",
        "Input:\n",
        "[2, 2, 2, 2, 2]\n",
        "Output:\n",
        "False\n",
        "\n",
        "a = [0,1,2,3,4,5]\n",
        "b = [1,1,1,1,1,1]\n",
        "c = [2,2,2,2,2]\n",
        "\n",
        "print (a+b+c)\n",
        "\n",
        "x = []\n",
        " for i: \n",
        "\n",
        "my_list = list ((10,20,30,40,50,60,70,80,90,100))\n",
        "print(my_list[1::2])\n",
        "\n",
        "x = [0, 1, 2, 3, 4, 5]\n",
        "for i [1::2]:\n",
        "\n",
        "\n",
        "for x in range (100,401):\n",
        " s = str(x)\n",
        " isAllEven = True \n",
        " for i in range(len(s)):\n",
        "   if int[s(i)] % 2 != 0:\n",
        "    isAllEven = False \n",
        "if isAllEven:\n",
        "  print(x)"
      ],
      "metadata": {
        "id": "H2mmB1DT_PzQ"
      },
      "execution_count": null,
      "outputs": []
    },
    {
      "cell_type": "code",
      "source": [
        "x = [1,1,1,1,1]\n",
        "if x: \n",
        "  print (\"true\")\n",
        "\n",
        "else:\n",
        "  print(\"false\")"
      ],
      "metadata": {
        "id": "cxM_JCbK9esL"
      },
      "execution_count": null,
      "outputs": []
    },
    {
      "cell_type": "code",
      "source": [
        "l1 = [0,0,0,0,0]\n",
        "l2 = [1,2,3,4,5]\n",
        "\n",
        "b = True\n",
        "for i in range(len(l2)):\n",
        "  if l2[i] != sum(l2[0:i+1]):\n",
        "    b = False\n",
        "print(b)"
      ],
      "metadata": {
        "colab": {
          "base_uri": "https://localhost:8080/"
        },
        "id": "GCmKRhDp9gXW",
        "outputId": "18092dcb-3979-4c30-b02c-1abf26c02354"
      },
      "execution_count": null,
      "outputs": [
        {
          "output_type": "stream",
          "name": "stdout",
          "text": [
            "False\n"
          ]
        }
      ]
    },
    {
      "cell_type": "code",
      "source": [
        "# Write a Python program to check the validity of password input by users.\n",
        "# Validation :\n",
        "# At least 1 letter between [a-z] and 1 letter between [A-Z].\n",
        "# At least 1 number between [0-9].\n",
        "# At least 1 character from [$#@].\n",
        "# Minimum length 6 characters.\n",
        "# Maximum length 16 characters.\n",
        "\n",
        "s = input()\n",
        "\n",
        "lowerCaseExist = False\n",
        "upperCaseExist = False\n",
        "digitExist = False\n",
        "characterExist = False \n",
        "\n",
        "for i in range(len(s)):\n",
        "  if s[i].islower():\n",
        "    lowerCaseExist = True\n",
        "  if s[i].isupper():\n",
        "    upperCaseExist = True\n",
        "  if s[i].isdigit():\n",
        "    digitExist = True\n",
        "  if s[i].ischaracter():\n",
        "    characterExist = True\n",
        "\n",
        "if lowerCaseExist and upperCaseExist and digitExist and 6 < len(s) < 16:\n",
        "  print(\"Your password is valid\")\n",
        "else:\n",
        "  print(\"Your password is invalid\") "
      ],
      "metadata": {
        "id": "CSfteTknETSZ"
      },
      "execution_count": null,
      "outputs": []
    },
    {
      "cell_type": "code",
      "source": [
        "# Write a Python program to find numbers between 100 and 400 (both included) where each digit of a number is an even number. \n",
        "# The numbers obtained should be printed in a comma-separated sequence.\n",
        "\n",
        "for x in range (100,401):\n",
        "  s = str(x)\n",
        "  isAllEven = True \n",
        "  for i in range(len(s)):\n",
        "    if int[s(i)]%2 != 0:\n",
        "      isAllEven = False\n",
        "  if isAllEven:\n",
        "    print('x',end=',')x = []\n",
        "for i in range (10):\n",
        "  if i % 2 == 0: \n",
        "    x.append(i*i)\n",
        "print ((x) / x)"
      ],
      "metadata": {
        "id": "VjR4Bt80EV9B"
      },
      "execution_count": null,
      "outputs": []
    },
    {
      "cell_type": "code",
      "source": [
        "# Python has a built-in function sum to find sum of all elements of a list. Provide an implementation for sum.\n",
        "\n",
        "l = [1,2,3,4,5,6,7]\n",
        "\n",
        "s = sum(l)\n",
        "print(s)"
      ],
      "metadata": {
        "colab": {
          "base_uri": "https://localhost:8080/"
        },
        "id": "pfyQYIIu6xGp",
        "outputId": "16449386-8fbd-4e0d-a9af-15ad6ca633d6"
      },
      "execution_count": null,
      "outputs": [
        {
          "output_type": "stream",
          "name": "stdout",
          "text": [
            "28\n"
          ]
        }
      ]
    },
    {
      "cell_type": "code",
      "source": [
        "#Python Data Practice \n",
        "\n",
        "def sum(l):\n",
        "  s = 0 \n",
        "  for e in l:\n",
        "    s += e\n",
        "  return s\n",
        "\n",
        "sum ([1,2,3])"
      ],
      "metadata": {
        "colab": {
          "base_uri": "https://localhost:8080/"
        },
        "id": "dXfop3Ki5_kz",
        "outputId": "b30669a4-256a-4351-ca7b-7da1644a6dc6"
      },
      "execution_count": null,
      "outputs": [
        {
          "output_type": "execute_result",
          "data": {
            "text/plain": [
              "6"
            ]
          },
          "metadata": {},
          "execution_count": 9
        }
      ]
    },
    {
      "cell_type": "code",
      "source": [
        "#What happens when the above sum function is called with a list of strings? \n",
        "# You can make your sum function work for a list of strings as well.\n",
        "\n",
        "l = [\"ab\",\"cd\",\"ef\"]\n",
        "\n",
        "s = sum(l)\n",
        "print(s)"
      ],
      "metadata": {
        "id": "ScoWIZ9e_twa"
      },
      "execution_count": null,
      "outputs": []
    },
    {
      "cell_type": "code",
      "source": [
        "#Python Data Practice\n",
        "\n",
        "def sum(l):\n",
        "  s = 0 \n",
        "  for e in l:\n",
        "    s += e\n",
        "  return s \n",
        "\n",
        "sum ([\"hello\", \"world\"])"
      ],
      "metadata": {
        "id": "XhCV6KLEEY4q"
      },
      "execution_count": null,
      "outputs": []
    },
    {
      "cell_type": "code",
      "source": [
        "# Implement a function product, to compute product of a list of numbers.\n",
        "\n",
        "l = [1,2,3,4,5]\n",
        "\n",
        "p = 1\n",
        "for i in range(len(l)):\n",
        "  p *= l[i]\n",
        "print(p)"
      ],
      "metadata": {
        "colab": {
          "base_uri": "https://localhost:8080/"
        },
        "id": "TMLpYKQKVeKl",
        "outputId": "c0839caf-9791-4afa-8606-04277a6b8283"
      },
      "execution_count": null,
      "outputs": [
        {
          "output_type": "stream",
          "name": "stdout",
          "text": [
            "120\n"
          ]
        }
      ]
    },
    {
      "cell_type": "code",
      "source": [
        "#Python Data Practice \n",
        "\n",
        "def product(l):\n",
        "  p = 1\n",
        "  for e in l:\n",
        "    p *= e\n",
        "  return p\n",
        "\n",
        "product ([1, 2, 3])"
      ],
      "metadata": {
        "id": "RJFLkuX66FgM",
        "colab": {
          "base_uri": "https://localhost:8080/"
        },
        "outputId": "4773a861-27a6-46bf-e918-773ab9c08567"
      },
      "execution_count": 23,
      "outputs": [
        {
          "output_type": "execute_result",
          "data": {
            "text/plain": [
              "6"
            ]
          },
          "metadata": {},
          "execution_count": 23
        }
      ]
    },
    {
      "cell_type": "code",
      "source": [
        "# Write a function factorial to compute factorial of a number. \n",
        "# Can you use the product function defined in the previous example to compute factorial?\n",
        "\n",
        "n = 5\n",
        "\n",
        "f = 1\n",
        "\n",
        "for i in range(1,n+1):\n",
        "  f *= i\n",
        "\n",
        "  print(f)"
      ],
      "metadata": {
        "colab": {
          "base_uri": "https://localhost:8080/"
        },
        "id": "izgPu9AgV-D8",
        "outputId": "c3ecae1a-8824-4b9f-9cd5-8b40c8fce4f2"
      },
      "execution_count": null,
      "outputs": [
        {
          "output_type": "stream",
          "name": "stdout",
          "text": [
            "1\n",
            "2\n",
            "6\n",
            "24\n",
            "120\n"
          ]
        }
      ]
    },
    {
      "cell_type": "code",
      "source": [
        "#Python Data Practice\n",
        "\n",
        "def factorial(n):\n",
        "  f = 1\n",
        "  for i in range(1, n+l):\n",
        "      f *= i\n",
        "  return f  \n",
        "\n",
        "factorial(4) "
      ],
      "metadata": {
        "id": "2ltVq_qN_pYS"
      },
      "execution_count": null,
      "outputs": []
    },
    {
      "cell_type": "code",
      "source": [
        "# Write a function reverse to reverse a list. Can you do this without using list slicing?\n",
        "\n",
        "l = [1,2,3,4,5]\n",
        "\n",
        "r = (l)[::-1]\n",
        "print(r)"
      ],
      "metadata": {
        "colab": {
          "base_uri": "https://localhost:8080/"
        },
        "id": "Gxkz27ItWVoW",
        "outputId": "bd5dee5a-c940-48c5-b36b-340611f0fcb7"
      },
      "execution_count": null,
      "outputs": [
        {
          "output_type": "stream",
          "name": "stdout",
          "text": [
            "[5, 4, 3, 2, 1]\n"
          ]
        }
      ]
    },
    {
      "cell_type": "code",
      "source": [
        "#Python Data Practice\n",
        "\n",
        "def function (l):\n",
        "  f = sorted(l,reverse=True)\n",
        "  return f\n",
        "\n",
        "function([1, 2, 3, 4])"
      ],
      "metadata": {
        "colab": {
          "base_uri": "https://localhost:8080/"
        },
        "id": "yMLMW9nA5pB8",
        "outputId": "2701ec66-93bf-4667-e591-316608a7d6d1"
      },
      "execution_count": null,
      "outputs": [
        {
          "output_type": "execute_result",
          "data": {
            "text/plain": [
              "[4, 3, 2, 1]"
            ]
          },
          "metadata": {},
          "execution_count": 6
        }
      ]
    },
    {
      "cell_type": "code",
      "source": [
        "# Python has built-in functions min and max to compute minimum and maximum of a given list.\n",
        "# Provide an implementation for these functions. What happens when you call your min and max functions with a list of strings?\n",
        "\n",
        "l = [2,1,3,5,4]\n",
        "l.sort()\n",
        "max = l[-1]\n",
        "print(max)"
      ],
      "metadata": {
        "colab": {
          "base_uri": "https://localhost:8080/"
        },
        "id": "9fQ1LDnTf_Qm",
        "outputId": "7868d480-0c2f-4600-a839-9dbb9231f0e7"
      },
      "execution_count": null,
      "outputs": [
        {
          "output_type": "stream",
          "name": "stdout",
          "text": [
            "5\n"
          ]
        }
      ]
    },
    {
      "cell_type": "code",
      "source": [
        "l = [2,1,3,5,4]\n",
        "l.sort()\n",
        "min = l[0]\n",
        "print(min)"
      ],
      "metadata": {
        "colab": {
          "base_uri": "https://localhost:8080/"
        },
        "id": "G0szjZO2__G1",
        "outputId": "5a3008e9-aa26-4a48-ab11-bda9f5242a57"
      },
      "execution_count": null,
      "outputs": [
        {
          "output_type": "stream",
          "name": "stdout",
          "text": [
            "1\n"
          ]
        }
      ]
    },
    {
      "cell_type": "code",
      "source": [
        "l = ['skf', 'flskf', 'glskgn']\n",
        "l.sort()\n",
        "\n",
        "def min(l):\n",
        "  m = l[0]\n",
        "  return m "
      ],
      "metadata": {
        "id": "VdLd35uR5mg6"
      },
      "execution_count": null,
      "outputs": []
    },
    {
      "cell_type": "code",
      "source": [
        "#Python Data Practice\n",
        "\n",
        "def max(l):\n",
        "  n = l[-1]\n",
        "  return n"
      ],
      "metadata": {
        "id": "SZDQ13T05jhI"
      },
      "execution_count": null,
      "outputs": []
    },
    {
      "cell_type": "code",
      "source": [
        "# Cumulative sum of a list [a, b, c, ...] is defined as [a, a+b, a+b+c, ...]. \n",
        "# Write a function cumulative_sum to compute cumulative sum of a list. Does your implementation work for a list of strings?\n",
        "\n",
        "l = [1,2,3,4,5]\n",
        "\n",
        "c = []\n",
        "for i in range(len(l)):\n",
        "  sum(l[0:i+1])\n",
        "  c.append(sum(l[0:i+1]))"
      ],
      "metadata": {
        "colab": {
          "base_uri": "https://localhost:8080/"
        },
        "id": "uB3lo8OUggdR",
        "outputId": "6b51c930-ee3f-4b36-adcd-1718ff17a261"
      },
      "execution_count": null,
      "outputs": [
        {
          "output_type": "stream",
          "name": "stdout",
          "text": [
            "1\n",
            "3\n",
            "6\n",
            "10\n",
            "15\n"
          ]
        }
      ]
    },
    {
      "cell_type": "code",
      "source": [
        "#Python Data Practice\n",
        "\n",
        "def cum_sum(l):\n",
        "  cl = []\n",
        "  for i in range(len(l)):\n",
        "    cl.append(sum(l[0:i+1]))\n",
        "  return cl\n",
        "\n",
        "print(cum_sum([1,2,3,4]))"
      ],
      "metadata": {
        "id": "6ZruFxaL5sL0"
      },
      "execution_count": null,
      "outputs": []
    },
    {
      "cell_type": "code",
      "source": [
        "# Write a function cumulative_product to compute cumulative product of a list of numbers.\n",
        "\n",
        "l = [1,2,3,4,5]\n",
        "c = []\n",
        "for i in range(len(l)):\n",
        "  sl = l[0:i+1]\n",
        "  p = 1\n",
        "  for i in range(len(sl)):\n",
        "    p *= sl[i]\n",
        "  c.append(p)\n",
        "print(c) # [1,2,6,24,120]"
      ],
      "metadata": {
        "colab": {
          "base_uri": "https://localhost:8080/"
        },
        "id": "GsVUWd0_iAuA",
        "outputId": "a4924ba3-e49d-402a-bcae-9cadc08caea5"
      },
      "execution_count": null,
      "outputs": [
        {
          "output_type": "stream",
          "name": "stdout",
          "text": [
            "[1, 2, 6, 24, 120]\n"
          ]
        }
      ]
    },
    {
      "cell_type": "code",
      "source": [
        "#Python Data Practice\n",
        "\n",
        "import numpy\n",
        "\n",
        "def cum_prod(l):\n",
        "  cl = []\n",
        "  for i in range(len(l)):\n",
        "    cl.append(numpy.prod(l[0:i+1]))\n",
        "  return cl\n",
        "\n",
        "print(cum_prod([1,2,3,4]))"
      ],
      "metadata": {
        "id": "2WumUWiU5xul"
      },
      "execution_count": null,
      "outputs": []
    },
    {
      "cell_type": "code",
      "source": [
        "# Write a function unique to find all the unique elements of a list.\n",
        "\n",
        "l = [1,2,1,3,2,5]\n",
        "\n",
        "c = set(l)\n",
        "print(c)"
      ],
      "metadata": {
        "colab": {
          "base_uri": "https://localhost:8080/"
        },
        "id": "ZLNvRiVli5gc",
        "outputId": "8d6c830d-accc-40e3-fd35-b442bfe0e033"
      },
      "execution_count": null,
      "outputs": [
        {
          "output_type": "stream",
          "name": "stdout",
          "text": [
            "{1, 2, 3, 5}\n"
          ]
        }
      ]
    },
    {
      "cell_type": "code",
      "source": [
        "l2 = ([1, 2, 1, 3, 2, 5])\n",
        "print(sorted(set(l2), key=l2.index))"
      ],
      "metadata": {
        "colab": {
          "base_uri": "https://localhost:8080/"
        },
        "id": "b1jk38lr6mgT",
        "outputId": "df01cf5f-e7cd-4e06-a590-06eb5ba85974"
      },
      "execution_count": null,
      "outputs": [
        {
          "output_type": "stream",
          "name": "stdout",
          "text": [
            "[1, 2, 3, 5]\n"
          ]
        }
      ]
    },
    {
      "cell_type": "code",
      "source": [
        "# Python Data Practice\n",
        "\n",
        "def function(l):\n",
        "  f = sorted(set(l))\n",
        "  return f\n",
        "\n",
        "function([1, 2, 1, 3, 2, 5])"
      ],
      "metadata": {
        "id": "OryLydhO52so",
        "colab": {
          "base_uri": "https://localhost:8080/"
        },
        "outputId": "3679cb74-e8c5-43bf-fbb7-0c90f8190070"
      },
      "execution_count": 25,
      "outputs": [
        {
          "output_type": "execute_result",
          "data": {
            "text/plain": [
              "[1, 2, 3, 5]"
            ]
          },
          "metadata": {},
          "execution_count": 25
        }
      ]
    },
    {
      "cell_type": "code",
      "source": [
        "l2 = ([1, 2, 1, 3, 2, 5])\n",
        "print(Counter(l2))"
      ],
      "metadata": {
        "id": "yOEXtC116pNR"
      },
      "execution_count": null,
      "outputs": []
    },
    {
      "cell_type": "code",
      "source": [
        "list = ([1, 2, 1, 3, 2, 5])\n",
        "\n",
        "for i in list:\n",
        "    if i in list.count > 1:\n",
        "        print (i)\n",
        "    else:\n",
        "       print (i)"
      ],
      "metadata": {
        "id": "a68PdkF4EchQ"
      },
      "execution_count": null,
      "outputs": []
    },
    {
      "cell_type": "code",
      "source": [
        "# Python Data Practice\n",
        "\n",
        "unique = ([1,1,1,2,2,3])\n",
        "def unique(l):\n",
        "  return list(set(l))\n",
        "\n",
        "print(unique)"
      ],
      "metadata": {
        "id": "b4UgmcFn6ri_",
        "colab": {
          "base_uri": "https://localhost:8080/"
        },
        "outputId": "fddc035a-2642-4d99-edf1-08698999631d"
      },
      "execution_count": 27,
      "outputs": [
        {
          "output_type": "stream",
          "name": "stdout",
          "text": [
            "<function unique at 0x7fcd289e9440>\n"
          ]
        }
      ]
    },
    {
      "cell_type": "code",
      "source": [
        "# Python Data Practice\n",
        "# Write a function dups to find all duplicates in the list.\n",
        "\n",
        "def function(list):\n",
        "  f = 1\n",
        "  for i in list.count(l) > 1:\n",
        "    return i\n",
        "\n",
        "function([1, 2, 1, 3, 2, 5])"
      ],
      "metadata": {
        "id": "njfEJ3Y2Eeua"
      },
      "execution_count": null,
      "outputs": []
    },
    {
      "cell_type": "code",
      "source": [
        "# Write a function valuesort to sort values of a dictionary based on the key.\n",
        "d = {'x': 1, 'y': 2, 'a': 3}\n",
        "s = d.keys()\n",
        "\n",
        "b = s(-1)\n",
        "print(b)"
      ],
      "metadata": {
        "id": "r6KzlrxVEgpE"
      },
      "execution_count": null,
      "outputs": []
    },
    {
      "cell_type": "code",
      "source": [
        "#Python Data Practice\n",
        "# Write a function mutate to compute all words generated by a single mutation on a given word. \n",
        "# A mutation is defined as inserting a character, deleting a character, replacing a character, or swapping 2 consecutive characters in a string. \n",
        "# For simplicity consider only letters from a to z.\n",
        "\n",
        "def mutate(l):\n",
        "  mutate.split = []\n",
        "  for i in range(len(l)):\n",
        "    mutate.split.append([0, 'c'])\n",
        "  return mutate.split\n",
        "\n",
        "mutate(['hello'])"
      ],
      "metadata": {
        "colab": {
          "base_uri": "https://localhost:8080/"
        },
        "id": "BamZKoj757oL",
        "outputId": "e56b08ba-6abe-4836-d898-a878cbc2d6cf"
      },
      "execution_count": null,
      "outputs": [
        {
          "output_type": "execute_result",
          "data": {
            "text/plain": [
              "[[0, 'c']]"
            ]
          },
          "metadata": {},
          "execution_count": 18
        }
      ]
    },
    {
      "cell_type": "code",
      "source": [
        "#Python Data Practice\n",
        "# Write a function nearly_equal to test whether two strings are nearly equal. \n",
        "# Two strings a and b are nearly equal when a can be generated by a single mutation on b.\n",
        "\n",
        "def nearly_equal(str1,str2):\n",
        "    count=0\n",
        "    i=j=0\n",
        "    while(i<len(str1) and j<len(str2)):\n",
        "        if(str1[i]!=str2[j]):\n",
        "            count=count+1\n",
        "            if(len(str1)>len(str2)):\n",
        "                i=i+1\n",
        "            elif(len(str1)==len(str2)):\n",
        "                pass\n",
        "            else:\n",
        "                i=i-1\n",
        "        if(count>1):\n",
        "            return False\n",
        "        i=i+1\n",
        "        j=j+1\n",
        "    if(count<2):\n",
        "            return True\n",
        "  \n",
        "str1=input(\"Enter first string::\\n\")\n",
        "str2=input(\"Enter second string::\\n\")\n",
        "boolean=nearly_equal(str1,str2)\n",
        "if(boolean):\n",
        "    print(\"Strings are nearly equal.\")\n",
        "else:\n",
        "    print(\"Strings are not equal.\")"
      ],
      "metadata": {
        "colab": {
          "base_uri": "https://localhost:8080/"
        },
        "id": "C9zaW1YM59a2",
        "outputId": "e435c08f-d3fe-4782-b6e2-be0861d15390"
      },
      "execution_count": null,
      "outputs": [
        {
          "output_type": "stream",
          "name": "stdout",
          "text": [
            "Enter first string::\n",
            "rsoo\n",
            "Enter second string::\n",
            "rwokl\n",
            "Strings are not equal.\n"
          ]
        }
      ]
    }
  ]
}