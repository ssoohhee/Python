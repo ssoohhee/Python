{
  "nbformat": 4,
  "nbformat_minor": 0,
  "metadata": {
    "colab": {
      "name": "Python Algorithm Exercises.ipynb",
      "provenance": []
    },
    "kernelspec": {
      "name": "python3",
      "display_name": "Python 3"
    },
    "language_info": {
      "name": "python"
    }
  },
  "cells": [
    {
      "cell_type": "code",
      "execution_count": null,
      "metadata": {
        "id": "bcPgBKKr8ehE"
      },
      "outputs": [],
      "source": [
        "# Given a string s, find the length of the longest substring without repeating characters.\n",
        "\n",
        "def longestSubstring(s):\n",
        "  sl = []\n",
        "  for i in range(len(s)):\n",
        "    cl = []\n",
        "    for j in range (i, len(s)-i):\n",
        "      if not s[j] in cl:\n",
        "        cl.append(s[j])\n",
        "      else:\n",
        "        break\n",
        "    sl.append(len(cl))\n",
        "  return max(sl)\n",
        "\n",
        "longestSubstring('abcabcbb')"
      ]
    },
    {
      "cell_type": "code",
      "source": [
        "# You are given an integer array height of length n. There are n vertical lines drawn such that the two endpoints of the ith line are (i, 0) and (i, height[i]).\n",
        "\n",
        "#Find two lines that together with the x-axis form a container, such that the container contains the most water.\n",
        "#Return the maximum amount of water a container can store.\n",
        "#Notice that you may not slant the container.\n",
        "\n",
        "height = [1,8,6,2,5,4,8,3,7]\n",
        "i = [1,2,3,4,5,6,7,8]\n",
        "j = i \n",
        "\n",
        "def maxarea(l):\n",
        "  maxarea = 0\n",
        "  for i in range(len(l)):\n",
        "    for j in range (i+1, len(l)-l):\n",
        "      if (j-i)*min(l[i], l[j]) > maxarea:\n",
        "        maxarea = (j-i)*min(l[i],l[j])\n",
        "        return maxarea"
      ],
      "metadata": {
        "id": "skZ_KLxB-mXh"
      },
      "execution_count": null,
      "outputs": []
    },
    {
      "cell_type": "code",
      "source": [
        "# Implement the myAtoi(string s) function, which converts a string to a 32-bit signed integer (similar to C/C++'s atoi function).\n",
        "\n",
        "def myAtoi(string):\n",
        "    s = 0\n",
        "    for i in range(len(string)):\n",
        "        s = s * 10 + (ord(string[i]) - ord('0'))\n",
        " \n",
        "    return s\n",
        "\n",
        "myAtoi(\"42\")"
      ],
      "metadata": {
        "id": "8IihNqzS-kEn"
      },
      "execution_count": null,
      "outputs": []
    },
    {
      "cell_type": "code",
      "source": [
        "# Given two non-negative integers num1 and num2 represented as strings, return the product of num1 and num2, also represented as a string.\n",
        "\n",
        "def multiply(num1, num2):\n",
        "  s = 1\n",
        "  s = num1 * num2\n",
        "  return multiply\n",
        "\n",
        "multiply (2, 3)"
      ],
      "metadata": {
        "id": "ITfeeISR9KuH"
      },
      "execution_count": null,
      "outputs": []
    },
    {
      "cell_type": "code",
      "source": [
        "# Given an integer array nums, find the contiguous subarray (containing at least one number) which has the largest sum and return its sum.\n",
        "\n",
        "def subarray(self, nums: list[int]):\n",
        "  s = 0 \n",
        "  r = 0 \n",
        "  for i in nums:\n",
        "    s = max(0, s) + i\n",
        "    r = max(r, s)\n",
        "    return max(nums) if r == 0 else r \n",
        "\n",
        "subarray [-2,1,-3,4,-1,2,1,-5,4]"
      ],
      "metadata": {
        "id": "F--LQbql9OKZ"
      },
      "execution_count": null,
      "outputs": []
    },
    {
      "cell_type": "code",
      "source": [
        "# Given two strings word1 and word2, return the minimum number of operations required to convert word1 to word2.\n",
        "#You have the following three operations permitted on a word:\n",
        "# • Insert a character\n",
        "# • Delete a character\n",
        "# • Replace a character\n",
        "\n",
        "def wordDistance(word1, word2, l1, l2):\n",
        "  if l1 == 0: return l2\n",
        "  if l2 == 0: return l1\n",
        "\n",
        "  if word1[l1-1] == word2[l2-1]:\n",
        "    return wordDistance(word1, word2, l1-1, l2-1)\n",
        "    \n",
        "return 1 + min(wordDistance(word1, word2, l1, l2-1)), wordDistance(word1, word2, l1-1, l2), wordDistance(word1, word2, l1-1, l2-1)) "
      ],
      "metadata": {
        "id": "gmp-dQd39QrA"
      },
      "execution_count": null,
      "outputs": []
    }
  ]
}