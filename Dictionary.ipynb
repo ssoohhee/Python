{
  "nbformat": 4,
  "nbformat_minor": 0,
  "metadata": {
    "colab": {
      "name": "Dictionary.ipynb",
      "provenance": []
    },
    "kernelspec": {
      "name": "python3",
      "display_name": "Python 3"
    },
    "language_info": {
      "name": "python"
    }
  },
  "cells": [
    {
      "cell_type": "code",
      "execution_count": null,
      "metadata": {
        "colab": {
          "base_uri": "https://localhost:8080/"
        },
        "id": "74Kd7X4K_APg",
        "outputId": "57aa87c6-199a-4e9f-9d36-2d44058b2f59"
      },
      "outputs": [
        {
          "output_type": "stream",
          "name": "stdout",
          "text": [
            "-427\n"
          ]
        }
      ],
      "source": [
        "# 1. Dictionaries don't have index orders, so speaking about them regarding their first item or last item is not very correct. \n",
        "# Next time you print a dictionary it may have a different order than you saw before. \n",
        "# Instead they have keys, and we can use keys to call their values.\n",
        "\n",
        "dict={\"name\": \"Plato\", \"country\": \"Ancient Greece\", \"born\": -427, \"teacher\": \"Socrates\",\n",
        "\"student\": \"Aristotle\"}\n",
        "\n",
        "print(dict[\"born\"])"
      ]
    },
    {
      "cell_type": "code",
      "source": [
        "# 2. Change Plato's birth year from B.C. 427 to B.C. 428.\n",
        "\n",
        "dict={\"name\": \"Plato\", \"country\": \"Ancient Greece\", \"born\": -427, \"teacher\": \"Socrates\",\n",
        "\"student\": \"Aristotle\"}\n",
        "\n",
        "dict[\"born\"] = -428\n",
        "#Type your answer below.\n",
        "\n",
        "print(dict[\"born\"])"
      ],
      "metadata": {
        "colab": {
          "base_uri": "https://localhost:8080/"
        },
        "id": "vPCp1XMG_J39",
        "outputId": "d4b73369-633e-4974-b723-c45ef3ab3756"
      },
      "execution_count": null,
      "outputs": [
        {
          "output_type": "stream",
          "name": "stdout",
          "text": [
            "-428\n"
          ]
        }
      ]
    },
    {
      "cell_type": "code",
      "source": [
        "# 3. Dictionaries can have nested data too. Also, you can add a new key to a dictionary as they are mutable (changeable). \n",
        "# Try to add the key \"work\" to dict with values shown below.\n",
        "\n",
        "dict={\"name\": \"Plato\", \"country\": \"Ancient Greece\", \"born\": -427, \"teacher\": \"Socrates\",\n",
        "\"student\": \"Aristotle\"}\n",
        "dict ['work']: [\"Apology\", \"Phaedo\", \"Republic\", \"Symposium\"]}\n",
        "\n",
        "#Type your answer below.\n",
        "\n",
        "print(dict)"
      ],
      "metadata": {
        "colab": {
          "base_uri": "https://localhost:8080/",
          "height": 133
        },
        "id": "ZM1WrjCU_LtS",
        "outputId": "e9815aff-6beb-4bb5-f3ca-53f6f93f448e"
      },
      "execution_count": null,
      "outputs": [
        {
          "output_type": "error",
          "ename": "SyntaxError",
          "evalue": "ignored",
          "traceback": [
            "\u001b[0;36m  File \u001b[0;32m\"<ipython-input-3-7194e50139b8>\"\u001b[0;36m, line \u001b[0;32m6\u001b[0m\n\u001b[0;31m    dict ['work']: [\"Apology\", \"Phaedo\", \"Republic\", \"Symposium\"]}\u001b[0m\n\u001b[0m                                                                 ^\u001b[0m\n\u001b[0;31mSyntaxError\u001b[0m\u001b[0;31m:\u001b[0m invalid syntax\n"
          ]
        }
      ]
    },
    {
      "cell_type": "code",
      "source": [
        "# 4. Write a Python script to generate and print a dictionary that contains a number (between 1 and n) in the form (x, x*x).\n",
        "# Sample Dictionary ( n = 5) :\n",
        "# Expected Output : {1: 1, 2: 4, 3: 9, 4: 16, 5: 25}\n",
        "\n",
        "for n in range (1,6):\n",
        "  dict = {n : n*n}\n",
        "  print(dict)"
      ],
      "metadata": {
        "colab": {
          "base_uri": "https://localhost:8080/"
        },
        "id": "w1dq2oTd_O0e",
        "outputId": "5343e745-42bb-4ca7-9e6f-6f947d12a5dd"
      },
      "execution_count": null,
      "outputs": [
        {
          "output_type": "stream",
          "name": "stdout",
          "text": [
            "{1: 1}\n",
            "{2: 4}\n",
            "{3: 9}\n",
            "{4: 16}\n",
            "{5: 25}\n"
          ]
        }
      ]
    },
    {
      "cell_type": "code",
      "source": [
        "#5. Write a Python script to print a dictionary where the keys are numbers between 1 and 15 (both included) and the values are square of keys.\n",
        "# Sample Dictionary\n",
        "# {1: 1, 2: 4, 3: 9, 4: 16, 5: 25, 6: 36, 7: 49, 8: 64, 9: 81, 10: 100, 11: 121, 12: 144, 13: 169, 14:196, 15: 225}\n",
        "\n",
        "for n in range (1,16):\n",
        "  dict = {n : n*n}\n",
        "  print(dict)"
      ],
      "metadata": {
        "colab": {
          "base_uri": "https://localhost:8080/"
        },
        "id": "yFkaVg4x_PdH",
        "outputId": "43a86882-e803-4551-e247-e1a1507ff6d4"
      },
      "execution_count": null,
      "outputs": [
        {
          "output_type": "stream",
          "name": "stdout",
          "text": [
            "{1: 1}\n",
            "{2: 4}\n",
            "{3: 9}\n",
            "{4: 16}\n",
            "{5: 25}\n",
            "{6: 36}\n",
            "{7: 49}\n",
            "{8: 64}\n",
            "{9: 81}\n",
            "{10: 100}\n",
            "{11: 121}\n",
            "{12: 144}\n",
            "{13: 169}\n",
            "{14: 196}\n",
            "{15: 225}\n"
          ]
        }
      ]
    },
    {
      "cell_type": "code",
      "source": [
        "#6. Write a Python script to merge two Python dictionaries.\n",
        "\n",
        "d1 = {1:1, 2:2, 3:3}\n",
        "d2 = {1:2, 2:4, 3:6}\n",
        "dict = d1 ** d2\n",
        "print(dict)"
      ],
      "metadata": {
        "id": "UV0HUOfQEwQC"
      },
      "execution_count": null,
      "outputs": []
    }
  ]
}