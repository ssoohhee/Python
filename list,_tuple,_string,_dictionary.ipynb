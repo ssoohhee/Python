{
  "nbformat": 4,
  "nbformat_minor": 0,
  "metadata": {
    "colab": {
      "name": "list, tuple, string, dictionary.ipynb",
      "provenance": []
    },
    "kernelspec": {
      "name": "python3",
      "display_name": "Python 3"
    },
    "language_info": {
      "name": "python"
    }
  },
  "cells": [
    {
      "cell_type": "code",
      "execution_count": null,
      "metadata": {
        "id": "4N2Usnq2oFvI"
      },
      "outputs": [],
      "source": [
        "#keywords\n",
        "\n",
        "return #exit a function and run the rest of the main program \n",
        "import #move data/settings used in one program to another \n",
        "def #defining a function\n",
        "x.append #add a single item to collection types  "
      ]
    },
    {
      "cell_type": "code",
      "source": [
        "#list \n",
        "\n",
        "#mutable sequence of objects \n",
        "# contents can be changed\n",
        "# contents can contain multiple data types \n",
        "list = ['abc', 1, 47, (3, 2, 1), [15, 16]]"
      ],
      "metadata": {
        "id": "YdizT6p_p5b4"
      },
      "execution_count": null,
      "outputs": []
    },
    {
      "cell_type": "code",
      "source": [
        "l = (1,2,3,\"abc\",[4,5],'A', True, False)\n",
        "\n",
        "f = [1, 1]\n",
        "for i in range (100):\n",
        "  f.append(f[-1]+f[-2])\n",
        "\n",
        "print(f)"
      ],
      "metadata": {
        "id": "1CUGfG_bA2WG"
      },
      "execution_count": null,
      "outputs": []
    },
    {
      "cell_type": "code",
      "source": [
        "c = [1,2,3,4,5,6]\n",
        "print(c[0], c[2], c[-1], c[-2])\n",
        "\n",
        "# c[0] 1st i in list c \n",
        "# c[2] 3rd i in list c\n",
        "# c[-1] last i in list c \n",
        "# c[-2] 2nd to the last in list c"
      ],
      "metadata": {
        "id": "Tyqrz8Z-Baqh"
      },
      "execution_count": null,
      "outputs": []
    },
    {
      "cell_type": "code",
      "source": [
        "#Write a Python program to remove duplicates from a list.\n",
        "\n",
        "l3 = [1,2,3,4,5,6,7,7]\n",
        "if 7 in l3:\n",
        "  l3.remove(7)\n",
        "  print(l3)"
      ],
      "metadata": {
        "id": "AWUk3THuDIT9"
      },
      "execution_count": null,
      "outputs": []
    },
    {
      "cell_type": "code",
      "source": [
        "#Write a Python program to check a list is empty or not.\n",
        "\n",
        "input([])\n",
        "if len([]) == 0:\n",
        "  print(\"list is empty\")\n",
        "\n",
        "else:\n",
        "  print(\"list is not empty\")"
      ],
      "metadata": {
        "id": "CxDsBq7-DJsU"
      },
      "execution_count": null,
      "outputs": []
    },
    {
      "cell_type": "code",
      "source": [
        "#index\n",
        "\n",
        "l = (1,2,3,\"abc\",[4,5],'A', True, False)\n",
        "print (1[3])\n",
        "#abc comes out as it counts from 0\n",
        "print (l[-2])\n",
        "#counts backwards"
      ],
      "metadata": {
        "id": "2j8cg_hZA-X2"
      },
      "execution_count": null,
      "outputs": []
    },
    {
      "cell_type": "code",
      "source": [
        "#input\n",
        "x = int(input())"
      ],
      "metadata": {
        "id": "fvZ0UCGb_e-4"
      },
      "execution_count": null,
      "outputs": []
    },
    {
      "cell_type": "code",
      "source": [
        "s = input()\n",
        "n = []\n",
        "\n",
        "for i in range(len(s)):\n",
        "  if s[i].islower():\n",
        "    n.append(0)\n",
        "  else:\n",
        "    n.append(1)"
      ],
      "metadata": {
        "id": "ccrl80UYBH3Y"
      },
      "execution_count": null,
      "outputs": []
    },
    {
      "cell_type": "code",
      "source": [
        "# mutation = append, remove, pop, ...\n",
        "l = (1,2,3,\"abc\",[4,5],'A', True, False)\n",
        "l.append(0)\n",
        "print(l)\n",
        "l.remove()\n",
        "l.pop()\n",
        "l.pop(3)\n",
        "l.insert (3, \"def\")"
      ],
      "metadata": {
        "id": "H67Z5IfDBJSW"
      },
      "execution_count": null,
      "outputs": []
    },
    {
      "cell_type": "code",
      "source": [
        "# if statement\n",
        "\n",
        "x = int(input())\n",
        "for x in range (1,10):\n",
        "  if x % 2 == 0:\n",
        "    print (\"even number\")\n",
        "  else: \n",
        "    print (\"odd number\")"
      ],
      "metadata": {
        "colab": {
          "base_uri": "https://localhost:8080/"
        },
        "id": "xcSQQWG3_cqL",
        "outputId": "d0561400-e13d-4cf0-dd4a-761f5f28f9c1"
      },
      "execution_count": null,
      "outputs": [
        {
          "output_type": "stream",
          "name": "stdout",
          "text": [
            "2\n",
            "odd number\n",
            "even number\n",
            "odd number\n",
            "even number\n",
            "odd number\n",
            "even number\n",
            "odd number\n",
            "even number\n",
            "odd number\n"
          ]
        }
      ]
    },
    {
      "cell_type": "code",
      "source": [
        "#while\n",
        "\n",
        "for i in range (2,20):\n",
        "  if i%2 == 0:\n",
        "    print (\"*\" * i)\n",
        "\n",
        "i = 2 \n",
        "while i < 20 and i%2 == 0:\n",
        "  print (\"*\" * i)\n",
        "  i += 2 "
      ],
      "metadata": {
        "id": "WR3b89AcAI63"
      },
      "execution_count": null,
      "outputs": []
    },
    {
      "cell_type": "code",
      "source": [
        "#slice of a list \n",
        "\n",
        "c = [1,2,3,4,5,6]\n",
        "\n",
        "print(c[1:4]) \n",
        "[2, 3, 4]\n",
        "print(c[:3])  # c[0:3]\n",
        "[1, 2, 3]\n",
        "print(c[3:])  \n",
        "[4, 5, 6]\n",
        "print(c[3:-1])\n",
        "[4, 5]\n",
        "print(c[:]) # includes everything \n",
        "[1, 2, 3, 4, 5, 6]"
      ],
      "metadata": {
        "id": "L9YmJdbWtxK5"
      },
      "execution_count": null,
      "outputs": []
    },
    {
      "cell_type": "code",
      "source": [
        "cr = c[5:2:-1]\n",
        "cr"
      ],
      "metadata": {
        "colab": {
          "base_uri": "https://localhost:8080/"
        },
        "id": "6l0sbLK9u3e9",
        "outputId": "ca1f1dd8-138e-4411-fedb-cc4976e3a123"
      },
      "execution_count": null,
      "outputs": [
        {
          "output_type": "execute_result",
          "data": {
            "text/plain": [
              "[10]"
            ]
          },
          "metadata": {},
          "execution_count": 12
        }
      ]
    },
    {
      "cell_type": "code",
      "source": [
        "#indexing and slicing (list)\n",
        "\n",
        "#l[i]\n",
        "print (l[4])\n",
        "\n",
        "# slicing \n",
        "print(l[2:6])\n",
        "print(l[3:])\n",
        "print(l[:5])\n",
        "print(l[:]) \n",
        "print(l[1::2]) \n",
        "print(l[::2]) \n",
        "print(l[5:1:-1])"
      ],
      "metadata": {
        "id": "P_7U_D9BBd3h"
      },
      "execution_count": null,
      "outputs": []
    },
    {
      "cell_type": "code",
      "source": [
        "#sorting list\n",
        "\n",
        "list = ['abc','abcd', 'abcde']\n",
        "list.sort()\n",
        "a = list[-1]\n",
        "print(a)\n",
        "\n",
        "b = list[0]\n",
        "print(b)"
      ],
      "metadata": {
        "id": "o7AEpEry_1bJ"
      },
      "execution_count": null,
      "outputs": []
    },
    {
      "cell_type": "code",
      "source": [
        "#sorting list \n",
        "\n",
        "names = ['xiong', 'lee', 'shin', 'an', 'park', 'k']\n",
        "scores = [60, 30, 80, 40, 50, 10]\n",
        "print(\"names=\", names) # names = [] 일케 나옴 \n",
        "print(names) #[]만 나옴 \n",
        "print(\"scores=\", scores)\n",
        "print(scores)\n",
        "\n",
        "snames = sorted(names)\n",
        "print(\"snames\", snames)\n",
        "\n",
        "rnames = sorted(names, reverse=True) #reversed snames\n",
        "print(\"rnames\", rnames)\n",
        "\n",
        "lnames = sorted(names, key=len) #length대로 sorted\n",
        "print(\"lnames\", lnames)\n",
        "\n",
        "names.sort()  # in-place sorting\n",
        "print(\"names=\", names)\n",
        "names.reverse()  # in-place reversing\n",
        "print(\"names=\", names)"
      ],
      "metadata": {
        "colab": {
          "base_uri": "https://localhost:8080/"
        },
        "id": "7vza7zcavCM8",
        "outputId": "07cb0b15-d4dc-49f0-fd23-701c2d20d3e5"
      },
      "execution_count": null,
      "outputs": [
        {
          "output_type": "stream",
          "name": "stdout",
          "text": [
            "names= ['xiong', 'lee', 'shin', 'an', 'park', 'k']\n",
            "['xiong', 'lee', 'shin', 'an', 'park', 'k']\n",
            "scores= [60, 30, 80, 40, 50, 10]\n",
            "[60, 30, 80, 40, 50, 10]\n",
            "snames ['an', 'k', 'lee', 'park', 'shin', 'xiong']\n",
            "rnames ['xiong', 'shin', 'park', 'lee', 'k', 'an']\n",
            "lnames ['k', 'an', 'lee', 'shin', 'park', 'xiong']\n",
            "names= ['an', 'k', 'lee', 'park', 'shin', 'xiong']\n",
            "names= ['xiong', 'shin', 'park', 'lee', 'k', 'an']\n"
          ]
        }
      ]
    },
    {
      "cell_type": "code",
      "source": [
        "#Write a Python program to get a list, sorted in increasing order by the last element in each tuple from a given list of non-empty tuples.\n",
        "#Sample List : [(2, 5), (1, 2), (4, 4), (2, 3), (2, 1)]\n",
        "#Expected Result : [(2, 1), (1, 2), (2, 3), (4, 4), (2, 5)]\n",
        "\n",
        "l6 = [(2, 5), (1, 2), (4, 4), (2, 3), (2, 1)]\n",
        "split(l6)\n",
        "l6.sort()\n",
        "b = list[-1]\n",
        "print(b)"
      ],
      "metadata": {
        "id": "9BqvhTjlDDYX"
      },
      "execution_count": null,
      "outputs": []
    },
    {
      "cell_type": "code",
      "source": [
        "l6 = [(2, 5), (1, 2), (4, 4), (2, 3), (2, 1)]\n",
        "split(l6)"
      ],
      "metadata": {
        "id": "xB8mZtT0DFg3"
      },
      "execution_count": null,
      "outputs": []
    },
    {
      "cell_type": "code",
      "source": [
        "a = [1,2,3]\n",
        "b = a\n",
        "b[0] = 100 #replace 1 to 100 \n",
        "print(\"a = \", a)\n",
        "print(\"b = \", b)"
      ],
      "metadata": {
        "colab": {
          "base_uri": "https://localhost:8080/"
        },
        "id": "gddSHyDgwwmf",
        "outputId": "25304190-a76f-4040-81d2-15bbf919cac6"
      },
      "execution_count": null,
      "outputs": [
        {
          "output_type": "stream",
          "name": "stdout",
          "text": [
            "a =  [100, 2, 3]\n",
            "b =  [100, 2, 3]\n"
          ]
        }
      ]
    },
    {
      "cell_type": "code",
      "source": [
        "#copying a list \n",
        "\n",
        "import copy\n",
        "a = [1,2,3]\n",
        "b = copy.copy(a) \n",
        "b[0] = 100\n",
        "print(\"a = \", a) #a doesn't change \n",
        "print(\"b = \", b) #replace 1 to 100"
      ],
      "metadata": {
        "colab": {
          "base_uri": "https://localhost:8080/"
        },
        "id": "n8A290V2w3yr",
        "outputId": "38cf9fc8-4ec9-4d86-cb55-4e51765763db"
      },
      "execution_count": null,
      "outputs": [
        {
          "output_type": "stream",
          "name": "stdout",
          "text": [
            "a =  [1, 2, 3]\n",
            "b =  [100, 2, 3]\n"
          ]
        }
      ]
    },
    {
      "cell_type": "code",
      "source": [
        "#shallow copy \n",
        "\n",
        "a = [1,2]\n",
        "b = [3,4]\n",
        "c = [a,b]\n",
        "print(\"c = \", c)\n",
        "\n",
        "d = c   # copy reference\n",
        "print(\"d = \", d)\n",
        "\n",
        "e = copy.copy(c)  # copy contents\n",
        "print(\"e = \", e)   "
      ],
      "metadata": {
        "colab": {
          "base_uri": "https://localhost:8080/"
        },
        "id": "H0kAAWSLxZ9S",
        "outputId": "6689824b-f27b-4692-ae49-c4cd13a6f2d6"
      },
      "execution_count": null,
      "outputs": [
        {
          "output_type": "stream",
          "name": "stdout",
          "text": [
            "c =  [[1, 2], [3, 4]]\n",
            "d =  [[1, 2], [3, 4]]\n",
            "e =  [[1, 2], [3, 4]]\n"
          ]
        }
      ]
    },
    {
      "cell_type": "code",
      "source": [
        "#deep copy = fully independent copy \n",
        "\n",
        "a = [1,2]\n",
        "b = [3,4]\n",
        "c = [a,b]\n",
        "print(\"c = \", c)\n",
        "\n",
        "e = copy.deepcopy(c)\n",
        "print(\"e = \", e)\n",
        "\n",
        "a[1] = 100 # change the index of the original cell \n",
        "print(\"c = \", c) #c changes \n",
        "print(\"e = \", e) #e doesn't change. it's a fully independent copy of c "
      ],
      "metadata": {
        "colab": {
          "base_uri": "https://localhost:8080/"
        },
        "id": "vRbqrdgv1Jm6",
        "outputId": "107c7fca-ed82-4808-9c23-868b6f105a4b"
      },
      "execution_count": null,
      "outputs": [
        {
          "output_type": "stream",
          "name": "stdout",
          "text": [
            "c =  [[1, 2], [3, 4]]\n",
            "e =  [[1, 2], [3, 4]]\n",
            "c =  [[1, 100], [3, 4]]\n",
            "e =  [[1, 2], [3, 4]]\n"
          ]
        }
      ]
    },
    {
      "cell_type": "code",
      "source": [
        "#tuple: immutable dataset  \n",
        "\n",
        "t = (1, 3, 5, (1,2), \"abc\", [1,2,3])\n",
        "\n",
        "a = ()\n",
        "a = tuple()\n",
        "print(a)\n",
        "\n",
        "b = 1,2,3 #inside packing()\n",
        "print(b)\n",
        "\n",
        "x, y, z = b #do not have unpacking()\n",
        "print(x, y, z)\n",
        "\n",
        "primes = (1,2,3,5,7,11,13,17,19,23,29)\n",
        "print(primes)"
      ],
      "metadata": {
        "colab": {
          "base_uri": "https://localhost:8080/"
        },
        "id": "kdszaqso2VCT",
        "outputId": "8ff5c9d0-aa8f-491f-c3d0-9839ff26ea73"
      },
      "execution_count": null,
      "outputs": [
        {
          "output_type": "stream",
          "name": "stdout",
          "text": [
            "()\n",
            "(1, 2, 3)\n",
            "1 2 3\n",
            "(1, 2, 3, 5, 7, 11, 13, 17, 19, 23, 29)\n"
          ]
        }
      ]
    },
    {
      "cell_type": "code",
      "source": [
        "#tuple\n",
        "print (t[4]) #l to t\n",
        "\n",
        "print(t[2:6])\n",
        "print(t[3:])\n",
        "print(t[:5])\n",
        "print(t[:]) #print(t)\n",
        "print(t[1::2]) \n",
        "print(t[::2]) \n",
        "print(t[5:1:-1])"
      ],
      "metadata": {
        "id": "7v8tBMW5Br7a"
      },
      "execution_count": null,
      "outputs": []
    },
    {
      "cell_type": "code",
      "source": [
        "#reverse tuple\n",
        "a = (1,3,4,5,6)\n",
        "a1 = a [::-1]\n",
        "print(a1)"
      ],
      "metadata": {
        "colab": {
          "base_uri": "https://localhost:8080/"
        },
        "id": "qtGYn8MlN8kJ",
        "outputId": "beb5f66c-10c0-4c01-e81f-7a5e7c142b5c"
      },
      "execution_count": null,
      "outputs": [
        {
          "output_type": "stream",
          "name": "stdout",
          "text": [
            "(6, 5, 4, 3, 1)\n"
          ]
        }
      ]
    },
    {
      "cell_type": "code",
      "source": [
        "#Write a Python program to print a tuple with string formatting.\n",
        "#Sample tuple : (100, 200, 300)\n",
        "#Output : This is a tuple (100, 200, 300)\n",
        "\n",
        "a1 = (100, 200, 300)\n",
        "print(\"This is a tuple\", a1)"
      ],
      "metadata": {
        "id": "O0XsiR2rDdZm"
      },
      "execution_count": null,
      "outputs": []
    },
    {
      "cell_type": "code",
      "source": [
        "#Write a Python program to remove an empty tuple(s) from a list of tuples.\n",
        "#Sample data: [(), (), ('',), ('a', 'b'), ('a', 'b', 'c'), ('d')]\n",
        "#Expected output: [('',), ('a', 'b'), ('a', 'b', 'c'), 'd']\n",
        "\n",
        "a2 = [(), (), ('',), ('a', 'b'), ('a', 'b', 'c'), ('d')]\n",
        "for i in range len(a2):\n",
        "  if a2[i] == 0:\n",
        "    "
      ],
      "metadata": {
        "id": "qy7L0_shDgSX"
      },
      "execution_count": null,
      "outputs": []
    },
    {
      "cell_type": "code",
      "source": [
        "#Write a Python program to count the elements in a list until an element is a tuple.\n",
        "\n",
        "b = [1,4,5,7]\n",
        "print(count(b))\n",
        "count"
      ],
      "metadata": {
        "id": "JOEwzIt0Dif8"
      },
      "execution_count": null,
      "outputs": []
    },
    {
      "cell_type": "code",
      "source": [
        "# Write a Python program to check a given list of integers where the sum of the first i integers is i.\n",
        "\n",
        "n = []\n",
        "n1 = int(input())\n",
        "n2 = int(input())\n",
        "n3 = int(input())\n",
        "\n",
        "if int(n1) == int(n2) == int(n3):\n",
        "  print(n1)\n",
        "\n",
        "# i = 0 1 2 3 \n",
        "# list = 0 1 1 1 \n",
        "\n",
        "l1 = [1,2,3,4]\n",
        "l2 = [0,1,1,1]\n",
        "\n",
        "  for i in range(len(l1)-1):\n",
        "    if sum(l1[:i+1]) != l1[i]:\n",
        "      b1 = False \n",
        "print(b1)\n",
        "\n",
        "b = True \n",
        "for "
      ],
      "metadata": {
        "id": "XacaH90CBzEY"
      },
      "execution_count": null,
      "outputs": []
    },
    {
      "cell_type": "code",
      "source": [
        "#string: immutable sequence of characters\n",
        "\n",
        "x = [1,2,3]\n",
        "str(x)"
      ],
      "metadata": {
        "colab": {
          "base_uri": "https://localhost:8080/",
          "height": 35
        },
        "id": "-GhfLMa6OTPa",
        "outputId": "84ae55e2-a5bc-41eb-fc84-1d99fc2a9a81"
      },
      "execution_count": null,
      "outputs": [
        {
          "output_type": "execute_result",
          "data": {
            "text/plain": [
              "'[1, 2, 3]'"
            ],
            "application/vnd.google.colaboratory.intrinsic+json": {
              "type": "string"
            }
          },
          "metadata": {},
          "execution_count": 54
        }
      ]
    },
    {
      "cell_type": "code",
      "source": [
        "s = \"restart\"\n",
        "new_s = s[0]\n",
        "\n",
        "firstChar = s[0]\n",
        "for i in range(1,len(s)):\n",
        "  if firstChar == s[i]:\n",
        "    new_s += \"$\"\n",
        "  else:\n",
        "    new_s += s[i]\n",
        "print(new_s)"
      ],
      "metadata": {
        "id": "UqaxbQi9B42N"
      },
      "execution_count": null,
      "outputs": []
    },
    {
      "cell_type": "code",
      "source": [
        "# Write a Python program to calculate the length of a string.\n",
        "\n",
        "s = input()\n",
        "print(len(s))"
      ],
      "metadata": {
        "id": "W7Cf826ECAQV"
      },
      "execution_count": null,
      "outputs": []
    },
    {
      "cell_type": "code",
      "source": [
        "# Write a Python program to get a string from a given string where all occurrences of its first char have been changed to '$', except the first char itself.\n",
        "# Sample String : 'restart'\n",
        "# Expected Result : 'resta$t'\n",
        "\n",
        "l = ['restart']\n",
        "l.insert (6, \"$\")\n",
        "\n",
        "l.insert (3, \"def\")\n"
      ],
      "metadata": {
        "id": "ub6DjU1mCCOT"
      },
      "execution_count": null,
      "outputs": []
    },
    {
      "cell_type": "code",
      "source": [
        "strings = ['abc', 'xyz', 'aba', '1221']\n",
        "for i in range (len(strings)):\n",
        "  if len(strings(i)) > 2 and strings[i][0] == strings[i][-1]:\n",
        "    print(strings[i])"
      ],
      "metadata": {
        "id": "PIFu2V8ZDNhn"
      },
      "execution_count": null,
      "outputs": []
    },
    {
      "cell_type": "code",
      "source": [
        "l3 = [1,2,3,4,5,6,7,7]\n",
        "s3 = set(l3)\n",
        "print(list(s3))"
      ],
      "metadata": {
        "id": "oh2zuzsdDQN2"
      },
      "execution_count": null,
      "outputs": []
    },
    {
      "cell_type": "code",
      "source": [
        "l = [(2, 5), (1, 2), (4, 4), (2, 3), (2, 1)]\n",
        "save = []\n",
        "  for i in range(len(l)):\n",
        "  tv = l[0][1]\n",
        "  tu = l[0]\n",
        "  for i in range (len(l)):\n",
        "    if l[i][1] <= tv:\n",
        "      tv = l[i][1]\n",
        "      tu = l[i]\n",
        "  save.append(tu)\n",
        "  l.remove(tu)\n",
        "print(save)"
      ],
      "metadata": {
        "id": "B6TdE1__DTTA"
      },
      "execution_count": null,
      "outputs": []
    },
    {
      "cell_type": "code",
      "source": [
        "save = []\n",
        "for i in range(len(l)):\n",
        "  tv = l[0][1]\n",
        "  tu = l[0]\n",
        "  for i in range(len(l)):\n",
        "    if l[i][1] <= tv:\n",
        "      tv = l[i][1]\n",
        "      tu = l[i]\n",
        "  save.append(tu)\n",
        "  l.remove(tu)\n",
        "print(save)"
      ],
      "metadata": {
        "id": "ZaFWPV_9DVD_"
      },
      "execution_count": null,
      "outputs": []
    },
    {
      "cell_type": "code",
      "source": [
        "# Write a Python function that takes a list of words and return the longest word and the length of the longest one.\n",
        "# Sample Output:\n",
        "# Longest word: Exercises\n",
        "# Length of the longest word: 9\n",
        "\n",
        "words = input()\n",
        "rnames = sorted(words, reverse=True)\n",
        "print (\"rwords=\", rwords)"
      ],
      "metadata": {
        "id": "YxYJO4ZqCE-S"
      },
      "execution_count": null,
      "outputs": []
    },
    {
      "cell_type": "code",
      "source": [
        "#dictionary \n",
        "\n",
        "#mapping of key value pairs\n",
        "\n",
        "d = {\n",
        "    'xiong' : 60,\n",
        "    'lee' : 30,\n",
        "    'shin' : 80,\n",
        "    'an' : 40,\n",
        "    'park' : 50,\n",
        "    'k' : 10\n",
        "}\n",
        "print(d)"
      ],
      "metadata": {
        "colab": {
          "base_uri": "https://localhost:8080/"
        },
        "id": "UPOCfato4ZMw",
        "outputId": "88cabaad-ec0e-4982-f228-aa945469d43f"
      },
      "execution_count": null,
      "outputs": [
        {
          "output_type": "stream",
          "name": "stdout",
          "text": [
            "{'xiong': 60, 'lee': 30, 'shin': 80, 'an': 40, 'park': 50, 'k': 10}\n"
          ]
        }
      ]
    },
    {
      "cell_type": "code",
      "source": [
        "d = {\"A\" : 90,\n",
        "     \"B\" : 80,\n",
        "     \"C\" : 100}\n",
        "print (d)"
      ],
      "metadata": {
        "id": "912314-UCrhj"
      },
      "execution_count": null,
      "outputs": []
    },
    {
      "cell_type": "code",
      "source": [
        "d[\"D\"] = 60\n",
        "print(d)"
      ],
      "metadata": {
        "id": "QZDR7lyQCuaE"
      },
      "execution_count": null,
      "outputs": []
    },
    {
      "cell_type": "code",
      "source": [
        "print(d.keys())\n",
        "print(d.values())\n",
        "print(d.items())"
      ],
      "metadata": {
        "id": "zaIALmHvCvos"
      },
      "execution_count": null,
      "outputs": []
    },
    {
      "cell_type": "code",
      "source": [
        "del(d[\"D\"])"
      ],
      "metadata": {
        "id": "pQwSusTtCw8n"
      },
      "execution_count": null,
      "outputs": []
    },
    {
      "cell_type": "code",
      "source": [
        "l = ['abc']\n",
        "print(str(l))"
      ],
      "metadata": {
        "id": "KWoN2d3eC7Bo"
      },
      "execution_count": null,
      "outputs": []
    },
    {
      "cell_type": "code",
      "source": [
        "#only immutables can be used as key for dict\n",
        "#tuples : immutable --> can be used as key\n",
        "#list : mutable --> cannot be used as key"
      ],
      "metadata": {
        "id": "wCUu6pA17qp6"
      },
      "execution_count": null,
      "outputs": []
    },
    {
      "cell_type": "code",
      "source": [
        "#set\n",
        "\n",
        "#collection of key value pairs \n",
        "#remove duplicates \n",
        "\n",
        "s = {1,2,3,1,2,5,5,5}\n",
        "print(s)\n",
        "\n",
        "alist = ['a', 'a', 'a', 'b', 'c'] #duplicates exist \n",
        "print ('alist = ', alist)\n",
        "\n",
        "aset = set(alist)\n",
        "print(\"aset = \", aset) #duplicates are removed "
      ],
      "metadata": {
        "colab": {
          "base_uri": "https://localhost:8080/"
        },
        "id": "ayClW-VI7t_N",
        "outputId": "9e0d0dfd-50f0-4f60-c9bb-140266b828b7"
      },
      "execution_count": null,
      "outputs": [
        {
          "output_type": "stream",
          "name": "stdout",
          "text": [
            "alist =  ['a', 'a', 'a', 'b', 'c']\n",
            "aset =  {'b', 'c', 'a'}\n"
          ]
        }
      ]
    },
    {
      "cell_type": "code",
      "source": [
        "#set operations \n",
        "\n",
        "cset = {'c', 'd', 'e'}\n",
        "print ('cset = ', cset)\n",
        "\n",
        "cset.add('f')\n",
        "print ('cset =', cset)\n",
        "cset.remove('f')\n",
        "print ('cset = ', cset)"
      ],
      "metadata": {
        "colab": {
          "base_uri": "https://localhost:8080/"
        },
        "id": "zIp-QMff8iSE",
        "outputId": "12b6b8b6-d493-40ad-b7ad-2037a41c1780"
      },
      "execution_count": null,
      "outputs": [
        {
          "output_type": "stream",
          "name": "stdout",
          "text": [
            "cset =  {'d', 'c', 'e'}\n",
            "cset = {'d', 'f', 'c', 'e'}\n",
            "cset =  {'d', 'c', 'e'}\n"
          ]
        }
      ]
    },
    {
      "cell_type": "code",
      "source": [
        "aset =  {'b', 'c', 'a'}\n",
        "cset = {'c', 'd', 'e'}\n",
        "\n",
        "print (\"union       : \", aset | cset) #exclude duplicates \n",
        "print (\"intersection: \", aset & cset) #intersect\n",
        "print (\"difference  : \", aset - cset) # b c a -c -d -e = b c \n",
        "print (\"xor         : \", aset ^ cset) #exclusive "
      ],
      "metadata": {
        "colab": {
          "base_uri": "https://localhost:8080/"
        },
        "id": "c1fi-zSX87fb",
        "outputId": "c23bf732-4eba-4751-a19d-4ee95307da32"
      },
      "execution_count": null,
      "outputs": [
        {
          "output_type": "stream",
          "name": "stdout",
          "text": [
            "union       :  {'d', 'e', 'a', 'c', 'b'}\n",
            "intersection:  {'c'}\n",
            "difference  :  {'b', 'a'}\n",
            "xor         :  {'d', 'a', 'e', 'b'}\n"
          ]
        }
      ]
    },
    {
      "cell_type": "code",
      "source": [
        "names = ['sohee', 'minji', 'suhyun']\n",
        "scores = [60, 30, 50, 90, 100]\n",
        "\n",
        "snames = sorted(names)\n",
        "print(\"names=\", names)\n",
        "print(\"socres=\", scores)\n",
        "\n",
        "rnames = sorted(names, reverse=True)\n",
        "print(\"rnames=\", rnames)\n",
        "rscores = sorted(scores,reverse=True)\n",
        "print(\"rscores=\",rscores)\n",
        "\n",
        "lnames = sorted(names, key=len)\n",
        "print(\"lnames=\",lnames)\n",
        "lscores = sorted(scores, key=len)\n",
        "print(\"lscores=\", lscores)"
      ],
      "metadata": {
        "id": "ijxEeuWM7QlI"
      },
      "execution_count": null,
      "outputs": []
    },
    {
      "cell_type": "code",
      "source": [
        "# copying a list\n",
        "import copy\n",
        "a = [1,2,3]\n",
        "b = copy.copy(a)\n",
        "b[0] = 100\n",
        "print(\"a = \", a)\n",
        "print(\"b = \", b)\n",
        "\n",
        "# shallow copy"
      ],
      "metadata": {
        "id": "LEGcdW9Z7R0p"
      },
      "execution_count": null,
      "outputs": []
    },
    {
      "cell_type": "code",
      "source": [
        "a = [1,2]\n",
        "b = [3,4]\n",
        "c = [a,b]\n",
        "\n",
        "d = c #shallow copy \n",
        "e = copy.copy(c) #if a changes so does e = shallow copy\n",
        "e = copy.deepcopy(c) #doesn't change = deep copy \n",
        "\n",
        "a[0] = 100\n",
        "print(d)\n",
        "print(e)\n",
        "print(f)"
      ],
      "metadata": {
        "id": "FzZJLLiu7TDm"
      },
      "execution_count": null,
      "outputs": []
    },
    {
      "cell_type": "code",
      "source": [
        "coinFlip = input()\n",
        "if coinFlip == \"tail\":\n",
        "print (\"Head came out!\")"
      ],
      "metadata": {
        "id": "JfPevcPG-VP8"
      },
      "execution_count": null,
      "outputs": []
    },
    {
      "cell_type": "code",
      "source": [
        "import random\n",
        "randNum = random.randint (1,100)\n",
        "print(random)\n",
        "\n",
        "if randNum < 50:\n",
        "  print(\"head\")\n",
        "\n",
        "else:\n",
        "  print (\"tail\")\n"
      ],
      "metadata": {
        "id": "PV6Sr82J-WVA"
      },
      "execution_count": null,
      "outputs": []
    },
    {
      "cell_type": "code",
      "source": [
        "# Create a variable x\n",
        "# If it is a multiple of 5\n",
        "# Print that is ...\n",
        "# Else that is not ...\n",
        "\n",
        "x = int(input())\n",
        "if x % 5 == 0:\n",
        "  print(\"x is a multiple of 5\")\n",
        "\n",
        "else: \n",
        "  print(\"x is not a multiple of 5\")"
      ],
      "metadata": {
        "id": "WmypsXIB-Yt2"
      },
      "execution_count": null,
      "outputs": []
    },
    {
      "cell_type": "code",
      "source": [
        "# Take a input from a user and save it into variable y\n",
        "# If its square is greater than 100\n",
        "# Print y is greater than 10\n",
        "# Else, print y is less than 10\n",
        "\n",
        "y = int(input())\n",
        "if y**2 > 100:\n",
        "  print(\"y is greater than 10\") \n",
        "\n",
        "else:\n",
        "  print (\"y is less than 10\")"
      ],
      "metadata": {
        "id": "LjwuyvHk-ZwX"
      },
      "execution_count": null,
      "outputs": []
    },
    {
      "cell_type": "code",
      "source": [
        "# Create a variable x\n",
        "# If it is a multiple of 3 and less than 100\n",
        "# Print that is ...\n",
        "# Else that is not ...\n",
        "\n",
        "x = int(input())\n",
        "if x* % 3 == 0 and x < 100:\n",
        "  print (\"x is a multiple of 3 and less than 100\")\n",
        "\n",
        "else:\n",
        "  print (\"x is not a multiple of 3 and not less than 100\")"
      ],
      "metadata": {
        "id": "auXsdT7m-atx"
      },
      "execution_count": null,
      "outputs": []
    },
    {
      "cell_type": "code",
      "source": [
        "# Take a input from a user and save it into variable y\n",
        "# If its fourth power is greater than 10000\n",
        "# Print y is greater than 10\n",
        "# Else, print the absoulute value of y is less than 10\n",
        "\n",
        "y = int(input())\n",
        "if y**4 > 10000:\n",
        "  print (\"y is greater than 10\")\n",
        "\n",
        "else:\n",
        "  print (\"y is less than 10\")\n",
        "\n",
        "y = int(input())\n",
        "if y**4 > 100:\n",
        "  print (\"y is greater than 10\")\n",
        "\n",
        "else:\n",
        "  print (\"the absolute value of y is less than 10\")"
      ],
      "metadata": {
        "id": "6ZOQQ6TC-cKK"
      },
      "execution_count": null,
      "outputs": []
    },
    {
      "cell_type": "code",
      "source": [
        "word = \"abcdefgh\"\n",
        "print(len(word))\n",
        "\n",
        "# take an input string from a user \n",
        "# If its length is longer than 10,\n",
        "# Print it is greater than 10\n",
        "# Else, print the it is less than 10\n",
        "\n",
        "s = input()\n",
        "if len(s) > 10:\n",
        "  print (\"s is greater than 10\")\n",
        "\n",
        "else:\n",
        "  print (\"s is less than 10\")\n",
        "  \n",
        "s = input()\n",
        "if len(s) > 10:\n",
        "  print (\"s is greater than 10\")\n",
        "\n",
        "else:\n",
        "  print (\"s is less than 10\")"
      ],
      "metadata": {
        "id": "vB0ETApK-dXa"
      },
      "execution_count": null,
      "outputs": []
    },
    {
      "cell_type": "code",
      "source": [
        "x = int(input())\n",
        "\n",
        "if x%5 == 0:\n",
        "  print (\"x is a multiple of 5\")\n",
        "\n",
        "elif x%5 == 1:\n",
        "  print (\"remainder is 1\")\n",
        "\n",
        "elif x%5 == 2:\n",
        "  print (\"remainder is 2\")\n",
        "\n",
        "elif x%5 == 3:\n",
        "  print (\"remainder is 3\")\n",
        "\n",
        "else: \n",
        "  print (\"remainder is 4\") "
      ],
      "metadata": {
        "id": "X3478zbt-etn"
      },
      "execution_count": null,
      "outputs": []
    }
  ]
}