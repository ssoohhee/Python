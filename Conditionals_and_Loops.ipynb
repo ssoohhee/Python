{
  "nbformat": 4,
  "nbformat_minor": 0,
  "metadata": {
    "colab": {
      "name": "Conditionals and Loops.ipynb",
      "provenance": []
    },
    "kernelspec": {
      "name": "python3",
      "display_name": "Python 3"
    },
    "language_info": {
      "name": "python"
    }
  },
  "cells": [
    {
      "cell_type": "code",
      "execution_count": null,
      "metadata": {
        "id": "uc-7lTnnG_Go",
        "colab": {
          "base_uri": "https://localhost:8080/"
        },
        "outputId": "ca6b71ff-6b4e-46cb-fba3-e0e2cf3b1203"
      },
      "outputs": [
        {
          "output_type": "stream",
          "name": "stdout",
          "text": [
            "1\n",
            "tail\n"
          ]
        }
      ],
      "source": [
        "# conditionals \n",
        "\n",
        "import random \n",
        "\n",
        "x = random.randint (0,10)\n",
        "print (x)\n",
        "# if want to see what number x is \n",
        "if x % 2 == 0:\n",
        "  print (\"head\")\n",
        "\n",
        "else:\n",
        "  print (\"tail\")"
      ]
    },
    {
      "cell_type": "code",
      "source": [
        "# loops = repetition \n",
        "# range = 0 ~ 9 \n",
        "for i in range (10):\n",
        "  print (\"*\" * i)\n",
        "  print (\"*\" * (i+1))"
      ],
      "metadata": {
        "id": "K97HatOa6jt4",
        "colab": {
          "base_uri": "https://localhost:8080/"
        },
        "outputId": "62b91b76-19d1-4a2c-de5f-8649dbba2889"
      },
      "execution_count": null,
      "outputs": [
        {
          "output_type": "stream",
          "name": "stdout",
          "text": [
            "\n",
            "*\n",
            "*\n",
            "**\n",
            "**\n",
            "***\n",
            "***\n",
            "****\n",
            "****\n",
            "*****\n",
            "*****\n",
            "******\n",
            "******\n",
            "*******\n",
            "*******\n",
            "********\n",
            "********\n",
            "*********\n",
            "*********\n",
            "**********\n"
          ]
        }
      ]
    },
    {
      "cell_type": "code",
      "source": [
        "for i in range (10):\n",
        "  if i % 2 == 0:  \n",
        "    print (\"* \" * 10)\n",
        "    \n",
        "  else:\n",
        "    print (\" *\" * 9)"
      ],
      "metadata": {
        "id": "TFNioYWF6ko2",
        "colab": {
          "base_uri": "https://localhost:8080/"
        },
        "outputId": "04f5c773-8983-4af6-dd46-a193261fe440"
      },
      "execution_count": null,
      "outputs": [
        {
          "output_type": "stream",
          "name": "stdout",
          "text": [
            "* * * * * * * * * * \n",
            " * * * * * * * * *\n",
            "* * * * * * * * * * \n",
            " * * * * * * * * *\n",
            "* * * * * * * * * * \n",
            " * * * * * * * * *\n",
            "* * * * * * * * * * \n",
            " * * * * * * * * *\n",
            "* * * * * * * * * * \n",
            " * * * * * * * * *\n"
          ]
        }
      ]
    },
    {
      "cell_type": "code",
      "source": [
        "for i in range (10):\n",
        "  print (\"\"*(9-i) + \"*\"*(2*i+1) + \"\"*(9-i))"
      ],
      "metadata": {
        "id": "Is6XXoZF6nv5",
        "colab": {
          "base_uri": "https://localhost:8080/"
        },
        "outputId": "0420ac63-606d-41ee-97cd-dab3b1d977b7"
      },
      "execution_count": null,
      "outputs": [
        {
          "output_type": "stream",
          "name": "stdout",
          "text": [
            "*\n",
            "***\n",
            "*****\n",
            "*******\n",
            "*********\n",
            "***********\n",
            "*************\n",
            "***************\n",
            "*****************\n",
            "*******************\n"
          ]
        }
      ]
    },
    {
      "cell_type": "code",
      "source": [
        "for i in range (2,20):\n",
        "  if i%2 == 0:\n",
        "    print (\"*\" * i)\n",
        "\n",
        "i = 2 \n",
        "while i < 20 and i%2 == 0:\n",
        "  print (\"*\" * i)\n",
        "  i += 2 "
      ],
      "metadata": {
        "colab": {
          "base_uri": "https://localhost:8080/"
        },
        "id": "hXV9UpQyxDDy",
        "outputId": "b238e7d9-7542-4110-fd93-09eaf16a3b74"
      },
      "execution_count": null,
      "outputs": [
        {
          "output_type": "stream",
          "name": "stdout",
          "text": [
            "**\n",
            "****\n",
            "******\n",
            "********\n",
            "**********\n",
            "************\n",
            "**************\n",
            "****************\n",
            "******************\n",
            "**\n",
            "****\n",
            "******\n",
            "********\n",
            "**********\n",
            "************\n",
            "**************\n",
            "****************\n",
            "******************\n"
          ]
        }
      ]
    },
    {
      "cell_type": "code",
      "source": [
        "l = []\n",
        "while True:\n",
        " x = input()\n",
        " if len(x) != 0:\n",
        "   l.append(x)\n",
        "   else:\n",
        "     print(l)\n",
        "     break "
      ],
      "metadata": {
        "id": "g6kTGvOjv1s6"
      },
      "execution_count": null,
      "outputs": []
    },
    {
      "cell_type": "code",
      "source": [
        "# 1. Write a Python program to find those numbers which are divisible by 7 and multiple of 5, between 1500 and 2700 (both included).\n",
        "\n",
        "for x in range (1500, 2701):\n",
        "  if x % 7 == 0 and x % 5 == 0:\n",
        "    print(x)"
      ],
      "metadata": {
        "id": "HSRKeZMs6e-O",
        "colab": {
          "base_uri": "https://localhost:8080/"
        },
        "outputId": "fe096ea3-a181-4801-9019-9cfe7bec7c95"
      },
      "execution_count": null,
      "outputs": [
        {
          "output_type": "stream",
          "name": "stdout",
          "text": [
            "1505\n",
            "1540\n",
            "1575\n",
            "1610\n",
            "1645\n",
            "1680\n",
            "1715\n",
            "1750\n",
            "1785\n",
            "1820\n",
            "1855\n",
            "1890\n",
            "1925\n",
            "1960\n",
            "1995\n",
            "2030\n",
            "2065\n",
            "2100\n",
            "2135\n",
            "2170\n",
            "2205\n",
            "2240\n",
            "2275\n",
            "2310\n",
            "2345\n",
            "2380\n",
            "2415\n",
            "2450\n",
            "2485\n",
            "2520\n",
            "2555\n",
            "2590\n",
            "2625\n",
            "2660\n",
            "2695\n"
          ]
        }
      ]
    },
    {
      "cell_type": "code",
      "source": [
        "# 2. Write a Python program to convert temperatures to and from celsius, fahrenheit.\n",
        "# [Formula: c/5 = f-32/9 [ where c = temperature in celsius and f = temperature in fahrenheit]\n",
        "# Expected Output: 60°C is 140 in Fahrenheit and 45°F is 7 in Celsius\n",
        "\n",
        "c = int(input())\n",
        "f = c/5 + 32/9 \n",
        "print (f\"{c}C is {f} in Fahrenheit\")"
      ],
      "metadata": {
        "id": "7DD8vxq2HGvK",
        "colab": {
          "base_uri": "https://localhost:8080/"
        },
        "outputId": "46ff78d6-56b7-4e38-8319-3fb137aaac90"
      },
      "execution_count": null,
      "outputs": [
        {
          "output_type": "stream",
          "name": "stdout",
          "text": [
            "491\n",
            "491C is 101.75555555555556 in Fahrenheit\n"
          ]
        }
      ]
    },
    {
      "cell_type": "code",
      "source": [
        "# 3. Write a Python program to guess a number between 1 to 9.\n",
        "# Note: User is prompted to enter a guess. If the user guesses wrong then the\n",
        "# prompt appears again until the guess is correct, on successful guess, user will\n",
        "# get a \"Well guessed!\" message, and the program will exit.\n",
        "\n",
        "import random \n",
        "randNum = random.randint (1,10)\n",
        "\n",
        "guess = int(input(\"guess a number\"))\n",
        "if guess == randNum:\n",
        "  print(\"Well guessed!\")\n",
        "else:\n",
        "  print(\"Wrong\")"
      ],
      "metadata": {
        "id": "dfRbYA9bJV0R",
        "colab": {
          "base_uri": "https://localhost:8080/"
        },
        "outputId": "6e869d9b-1f98-44b2-ddc9-8e3bea6f6c50"
      },
      "execution_count": null,
      "outputs": [
        {
          "output_type": "stream",
          "name": "stdout",
          "text": [
            "guess a number13\n",
            "Wrong\n"
          ]
        }
      ]
    },
    {
      "cell_type": "code",
      "source": [
        "# 4. Write a Python program to construct the following pattern, using a nested for loop.\n",
        "#*\n",
        "#* *\n",
        "#* * *\n",
        "#* * * *\n",
        "#* * * * *\n",
        "#* * * *\n",
        "#* * *\n",
        "#* *\n",
        "#*\n",
        "\n",
        "for i in range (1, 6):\n",
        "  print (\" *\"*(i))\n",
        "\n",
        "for i in range (4):\n",
        "  print (\" *\"*(4-i))"
      ],
      "metadata": {
        "id": "40NjgUS3ObLC",
        "colab": {
          "base_uri": "https://localhost:8080/"
        },
        "outputId": "d93c30d4-3522-4bf4-f983-db25cff7ae37"
      },
      "execution_count": null,
      "outputs": [
        {
          "output_type": "stream",
          "name": "stdout",
          "text": [
            "*\n",
            "**\n",
            "***\n",
            "****\n",
            "*****\n",
            "*****\n",
            "****\n",
            "***\n",
            "**\n"
          ]
        }
      ]
    },
    {
      "cell_type": "code",
      "source": [
        "# 5. Write a Python program that accepts a word from the user and reverse it.\n",
        "\n",
        "x = input()\n",
        "print(x[::-1])"
      ],
      "metadata": {
        "id": "0S0x0Kw3Po-g",
        "colab": {
          "base_uri": "https://localhost:8080/"
        },
        "outputId": "47123917-7b8b-4a1f-a854-ecd08adfb6f9"
      },
      "execution_count": null,
      "outputs": [
        {
          "output_type": "stream",
          "name": "stdout",
          "text": [
            "d\n",
            "d\n"
          ]
        }
      ]
    },
    {
      "cell_type": "code",
      "source": [
        "# 6. Write a Python program to count the number of even and odd numbers from a series of numbers.\n",
        "# Sample numbers : numbers = (1, 2, 3, 4, 5, 6, 7, 8, 9)\n",
        "# Expected Output :\n",
        "# Number of even numbers : 5\n",
        "# Number of odd numbers : 4\n",
        "\n",
        "x = int(input())\n",
        "for x in range (1,10):\n",
        "  if x % 2 == 0:\n",
        "    print (\"even number\")\n",
        "  else: \n",
        "    print (\"odd number\")"
      ],
      "metadata": {
        "id": "LN_DgaDcRC7C",
        "colab": {
          "base_uri": "https://localhost:8080/"
        },
        "outputId": "2d8f5659-d28d-4679-efc3-f5d88e5fdb64"
      },
      "execution_count": null,
      "outputs": [
        {
          "output_type": "stream",
          "name": "stdout",
          "text": [
            "9\n",
            "odd number\n",
            "even number\n",
            "odd number\n",
            "even number\n",
            "odd number\n",
            "even number\n",
            "odd number\n",
            "even number\n",
            "odd number\n"
          ]
        }
      ]
    },
    {
      "cell_type": "code",
      "source": [
        "# 7. Write a Python program that prints each item and its corresponding type from the following list.\n",
        "# Sample List : datalist = [1452, 11.23, 1+2j, True, 'w3resource', (0, -1), [5, 12],\n",
        "# {\"class\":'V', \"section\":'A'}]\n",
        "\n",
        "l = [1452, 11.23, 1+2j, True, 'w3resource', (0, -1), [5, 12], {\"class\":'V', \"section\":'A'}]\n",
        "for i in range(len(l)):\n",
        "  print(l[i])\n",
        "  print(type(l[i]))"
      ],
      "metadata": {
        "id": "GVoP5k923x2e"
      },
      "execution_count": null,
      "outputs": []
    },
    {
      "cell_type": "code",
      "source": [
        "# 8. Write a Python program that prints all the numbers from 0 to 6 except 3 and 6.\n",
        "# Note : Use 'continue' statement.\n",
        "# Expected Output : 0 1 2 4 5\n",
        "\n",
        "for i in range (0,7):\n",
        " if i != 3 and i != 6:\n",
        "   print (1 * i)\n"
      ],
      "metadata": {
        "id": "Ubmal7rKZCB9"
      },
      "execution_count": null,
      "outputs": []
    },
    {
      "cell_type": "code",
      "source": [
        "# 9. Write a Python program to get the Fibonacci series between 0 to 50.\n",
        "# Note : The Fibonacci Sequence is the series of numbers :\n",
        "# 0, 1, 1, 2, 3, 5, 8, 13, 21, ....\n",
        "# Every next number is found by adding up the two numbers before it.\n",
        "# Expected Output : 1 1 2 3 5 8 13 21 34\n",
        "\n",
        "fibo = [1,1]\n",
        "for i in range (1,51):\n",
        "  fibo.append(fibo[i]+fibo[i-1])\n",
        "  print(fibo)"
      ],
      "metadata": {
        "id": "YDde9VItZ0Uq"
      },
      "execution_count": null,
      "outputs": []
    },
    {
      "cell_type": "code",
      "source": [
        "# 10. Write a Python program which iterates the integers from 1 to 50. For multiples of three print \"Fizz\" instead of the number and for the multiples of \n",
        "# five print \"Buzz\". For numbers which are multiples of both three and five print \"FizzBuzz\".\n",
        "\n",
        "for i in range(1,51):\n",
        "  if i % 3 == 0:\n",
        "    print (\"Fizz\")\n",
        "  elif i % 5 == 0:\n",
        "    print (\"Buzz\")\n",
        "  elif i % 15 == 0:\n",
        "    print (\"FizzBuzz\")\n",
        "  else:\n",
        "    print (i)"
      ],
      "metadata": {
        "id": "PMOogmSt3z36"
      },
      "execution_count": null,
      "outputs": []
    },
    {
      "cell_type": "code",
      "source": [
        "# 11. Write a Python program which takes two digits m (row) and n (column) as input and generates a two-dimensional array. \n",
        "# The element value in the i-th row and j-th column of the array should be i*j.\n",
        "# Note : i = 0,1.., m-1. j = 0,1, n-1.\n",
        "# Test Data : Rows = 3, Columns = 4\n",
        "# Expected Result : [[0, 0, 0, 0], [0, 1, 2, 3], [0, 2, 4, 6]]\n",
        "\n",
        "def makeTable(m, n): \n",
        "  t = [[0 for j in range n]] for i in range (m)]\n",
        "  for i in range(m):\n",
        "    for j in range(n):\n",
        "      t[i][j] = i * j\n",
        "  return t\n",
        "\n",
        "  print(makeTable(4, 3))"
      ],
      "metadata": {
        "id": "0jbDPAuN30bR"
      },
      "execution_count": null,
      "outputs": []
    },
    {
      "cell_type": "code",
      "source": [
        "# 12. Write a Python program that accepts a sequence of lines (blank line to \n",
        "# terminate) as input and prints the lines as output (all characters in lower case).\n",
        "\n",
        "def saveLines():\n",
        "  lines = []\n",
        "  while(True):\n",
        "    line = input(\"Write here --> \")\n",
        "    if len(line) == 0:\n",
        "      break\n",
        "    else:\n",
        "      lines.append(line)\n",
        "  return lines \n",
        "\n",
        "saveLines()"
      ],
      "metadata": {
        "id": "mv1t6Ya9c_gh"
      },
      "execution_count": null,
      "outputs": []
    },
    {
      "cell_type": "code",
      "source": [
        "# 13. Write a Python program which accepts a sequence of comma separated 4\n",
        "# digit binary numbers as its input and print the numbers that are divisible by 5 in a\n",
        "# comma separated sequence.\n",
        "# Sample Data : 0100,0011,1010,1001,1100,1001\n",
        "# Expected Output : 1010\n",
        "\n",
        "def multipleFive(bl):\n",
        "  for b in bl:\n",
        "    t = 0\n",
        "    for i in range(len(b)):\n",
        "      t += int(b[i]) * 2 ** (len(b) - i - 1)\n",
        "    if t % 5 == 0:\n",
        "      print(b)\n",
        "\n",
        "multipleFive(['0100', '0011', '1010', '1001', '1100', '1001'])"
      ],
      "metadata": {
        "id": "1BJWhB_kdWph"
      },
      "execution_count": null,
      "outputs": []
    },
    {
      "cell_type": "code",
      "source": [
        "# 14. Write a Python program that accepts a string and calculate the number of\n",
        "# digits and letters.\n",
        "# Sample Data : Python 3.2\n",
        "# Expected Output :\n",
        "# Letters 6\n",
        "# Digits 2\n",
        "\n",
        "s = input()\n",
        "\n",
        "l = 0 \n",
        "d = 0 \n",
        "\n",
        "for i in range(len(s)):\n",
        "  if i.isalpha():\n",
        "    l=l+1\n",
        "  elif i.isdigit():\n",
        "    d=d+1\n",
        "\n",
        "print(\"letters\", l)\n",
        "print(\"digits\", d)"
      ],
      "metadata": {
        "id": "cwI6Dd_gwEiY"
      },
      "execution_count": null,
      "outputs": []
    },
    {
      "cell_type": "code",
      "source": [
        "# 15. Write a Python program to check the validity of password input by users.\n",
        "# Validation :\n",
        "# At least 1 letter between [a-z] and 1 letter between [A-Z].\n",
        "# At least 1 number between [0-9].\n",
        "# At least 1 character from [$#@].\n",
        "# Minimum length 6 characters.\n",
        "# Maximum length 16 characters.\n",
        "\n",
        "p = input(\"Write your password: \")\n",
        "\n",
        "upper = 0\n",
        "lower = 0\n",
        "digit = 0\n",
        "sp = 0\n",
        "\n",
        "for c in p:\n",
        "  if ord(c) >= 65 and ord(c) <= 90:\n",
        "    upper += 1\n",
        "  if ord(c) >= 97 and ord(c) < 122:\n",
        "    lower += 1\n",
        "  if ord(c) >= 48 and ord(c) <= 57:\n",
        "    digit += 1\n",
        "  if ord(c) == 35 or ord(c) == 36 or ord(c) == 64:\n",
        "    sp += 1\n",
        "  \n",
        "if upper * lower * digit * sp > 0 and len(p) > 6 and len(p) < 16:\n",
        "  print(\"Valid\")\n",
        "else:\n",
        "  print(\"Invalid\")"
      ],
      "metadata": {
        "colab": {
          "base_uri": "https://localhost:8080/"
        },
        "id": "VqrAuw8X4_uZ",
        "outputId": "7637da22-8306-446a-965e-f1f9856b1a97"
      },
      "execution_count": null,
      "outputs": [
        {
          "output_type": "stream",
          "name": "stdout",
          "text": [
            "Write your password: 98\n",
            "Invalid\n"
          ]
        }
      ]
    },
    {
      "cell_type": "code",
      "source": [
        "# 16. Write a Python program to find numbers between 100 and 400 (both included) where each digit of a number is an even number. \n",
        "# The numbers obtained should be printed in a comma-separated sequence.\n",
        "\n",
        "print([n for n in range(100, 401) if (int(str(n)[0])-1)*(int(str(n)[1])-1)*(int(str(n)[2])-1) % 2 == 1])"
      ],
      "metadata": {
        "id": "a6SSRHzI5JGc",
        "colab": {
          "base_uri": "https://localhost:8080/"
        },
        "outputId": "c81f3be2-6c58-4557-d70d-bdbfd05f9312"
      },
      "execution_count": null,
      "outputs": [
        {
          "output_type": "stream",
          "name": "stdout",
          "text": [
            "[200, 202, 204, 206, 208, 220, 222, 224, 226, 228, 240, 242, 244, 246, 248, 260, 262, 264, 266, 268, 280, 282, 284, 286, 288, 400]\n"
          ]
        }
      ]
    },
    {
      "cell_type": "code",
      "source": [
        "# 17. Write a Python program to print alphabet pattern 'A'.\n",
        "# Expected Output:\n",
        "\n",
        "# ***\n",
        "#*   *\n",
        "#*   *\n",
        "#*****\n",
        "#*   *\n",
        "#*   *\n",
        "#*   *\n",
        "\n",
        "for i in range (1):\n",
        "  print (\" \" + \"*\"*3)\n",
        "\n",
        "for i in range (2): \n",
        "  print (\"*\" +\" \"*3 + \"*\")\n",
        "\n",
        "for i in range (1):\n",
        "  print (\"*\"*5)\n",
        "\n",
        "for i in range (3):\n",
        "  print (\"*\" +\" \"*3 + \"*\")"
      ],
      "metadata": {
        "colab": {
          "base_uri": "https://localhost:8080/"
        },
        "id": "gDUL8DBtAcan",
        "outputId": "73a19c8e-905f-4bd0-c6a8-32d863f1d30e"
      },
      "execution_count": null,
      "outputs": [
        {
          "output_type": "stream",
          "name": "stdout",
          "text": [
            " ***\n",
            "*   *\n",
            "*   *\n",
            "*****\n",
            "*   *\n",
            "*   *\n",
            "*   *\n"
          ]
        }
      ]
    },
    {
      "cell_type": "code",
      "source": [
        "# 18. Write a Python program to print alphabet pattern 'D'.\n",
        "# Expected Output:\n",
        "#****\n",
        "#*   *\n",
        "#*   *\n",
        "#*   *\n",
        "#*   *\n",
        "#*   *\n",
        "#****\n",
        "\n",
        "for i in range (1):\n",
        "  print(\"*\"*4)\n",
        "\n",
        "for i in range (4):\n",
        "  print(\"*\" + \" \"*3 + \"*\")\n",
        "  \n",
        "for i in range (1):\n",
        "  print(\"*\"*4)"
      ],
      "metadata": {
        "colab": {
          "base_uri": "https://localhost:8080/"
        },
        "id": "u0S8DCOUAejY",
        "outputId": "1ad7f53b-d788-4f55-ba9b-8ebe5199518b"
      },
      "execution_count": null,
      "outputs": [
        {
          "output_type": "stream",
          "name": "stdout",
          "text": [
            "****\n",
            "*   *\n",
            "*   *\n",
            "*   *\n",
            "*   *\n",
            "****\n"
          ]
        }
      ]
    },
    {
      "cell_type": "code",
      "source": [
        "# 19. Write a Python program to print alphabet pattern 'E'.\n",
        "# Expected Output:\n",
        "#*****\n",
        "#*\n",
        "#*\n",
        "#****\n",
        "#*\n",
        "#*\n",
        "#*****\n",
        "\n",
        "for i in range (1):\n",
        "  print(\"*\"*5)\n",
        "\n",
        "for i in range (2):\n",
        "  print(\"*\")\n",
        "\n",
        "for i in range (1):\n",
        "  print(\"*\"*5)\n",
        "\n",
        "for i in range (2):\n",
        "  print(\"*\")\n",
        "\n",
        "for i in range (1):\n",
        "  print(\"*\"*5)"
      ],
      "metadata": {
        "colab": {
          "base_uri": "https://localhost:8080/"
        },
        "id": "9o7xf6mJAf4t",
        "outputId": "b8a5c0c7-bd0e-4f77-8ed2-bea935127d66"
      },
      "execution_count": null,
      "outputs": [
        {
          "output_type": "stream",
          "name": "stdout",
          "text": [
            "*****\n",
            "*\n",
            "*\n",
            "*****\n",
            "*\n",
            "*\n",
            "*****\n"
          ]
        }
      ]
    },
    {
      "cell_type": "code",
      "source": [
        "# 20. Write a Python program to print alphabet pattern 'G'.\n",
        "# Expected Output:\n",
        "# ***\n",
        "#*   *\n",
        "#*\n",
        "#* ***\n",
        "#*   *\n",
        "#*   *\n",
        "# ***\n",
        "\n",
        "for i in range (1):\n",
        "  print(\" \" + \"*\"*3)\n",
        "\n",
        "for i in range (1):\n",
        "  print(\"*\" + \" \"*3 + \"*\")\n",
        "\n",
        "for i in range (1):\n",
        "  print(\"*\")\n",
        "\n",
        "for i in range (1):\n",
        "  print(\"*\" + \" \" + \"*\"*3)\n",
        "\n",
        "for i in range (2):\n",
        "  print(\"*\" + \" \"*3 + \"*\")\n",
        "\n",
        "for i in range (1):\n",
        "  print(\" \" + \"*\"*3)"
      ],
      "metadata": {
        "colab": {
          "base_uri": "https://localhost:8080/"
        },
        "id": "z9WPnOjsAjuh",
        "outputId": "b6ec1b44-accd-4891-9603-5e66e80518ec"
      },
      "execution_count": null,
      "outputs": [
        {
          "output_type": "stream",
          "name": "stdout",
          "text": [
            " ***\n",
            "*   *\n",
            "*\n",
            "* ***\n",
            "*   *\n",
            "*   *\n",
            " ***\n"
          ]
        }
      ]
    },
    {
      "cell_type": "code",
      "source": [
        "for i in range (5):\n",
        "  print (\"\"*(4-i) + \"*\"*(i) + \"\"*(4-i))\n",
        "\n",
        "for i in range (5):\n",
        "  print (\" \"*(4-i) + \"*\"*(i) + \" \"*(4-i))"
      ],
      "metadata": {
        "colab": {
          "base_uri": "https://localhost:8080/"
        },
        "id": "Sl_vjN02xJim",
        "outputId": "5fa853ca-d3da-487e-d26f-f61995f3bf4e"
      },
      "execution_count": null,
      "outputs": [
        {
          "output_type": "stream",
          "name": "stdout",
          "text": [
            "\n",
            "*\n",
            "**\n",
            "***\n",
            "****\n",
            "        \n",
            "   *   \n",
            "  **  \n",
            " *** \n",
            "****\n"
          ]
        }
      ]
    },
    {
      "cell_type": "code",
      "source": [
        "for i in range (1,6):\n",
        "  print (\" * \"*i)"
      ],
      "metadata": {
        "colab": {
          "base_uri": "https://localhost:8080/"
        },
        "id": "_qoXisDyxOO-",
        "outputId": "23e6d92f-ef98-4519-94cf-5255c5188908"
      },
      "execution_count": null,
      "outputs": [
        {
          "output_type": "stream",
          "name": "stdout",
          "text": [
            " * \n",
            " *  * \n",
            " *  *  * \n",
            " *  *  *  * \n",
            " *  *  *  *  * \n"
          ]
        }
      ]
    },
    {
      "cell_type": "code",
      "source": [
        "for i in range (2,20): \n",
        "  if i%2 == 0:\n",
        "    print(\"*\" * i)"
      ],
      "metadata": {
        "colab": {
          "base_uri": "https://localhost:8080/"
        },
        "id": "cY55u-WSxSDf",
        "outputId": "47107902-e459-4f4d-ba98-291ea8369be2"
      },
      "execution_count": null,
      "outputs": [
        {
          "output_type": "stream",
          "name": "stdout",
          "text": [
            "**\n",
            "****\n",
            "******\n",
            "********\n",
            "**********\n",
            "************\n",
            "**************\n",
            "****************\n",
            "******************\n"
          ]
        }
      ]
    },
    {
      "cell_type": "code",
      "source": [
        "for i in range (6):\n",
        "  print(\" * \"*i) \n",
        "\n",
        "for i in range (5):\n",
        "  print(\" * \"*i)\n",
        "\n",
        "for i in range (1, 6):\n",
        "  print (\" * \"*i)"
      ],
      "metadata": {
        "colab": {
          "base_uri": "https://localhost:8080/"
        },
        "id": "DOSLzdpyxYxO",
        "outputId": "91efefe6-ac6e-4528-d340-e4f7ada9d186"
      },
      "execution_count": null,
      "outputs": [
        {
          "output_type": "stream",
          "name": "stdout",
          "text": [
            "\n",
            " * \n",
            " *  * \n",
            " *  *  * \n",
            " *  *  *  * \n",
            " *  *  *  *  * \n",
            "\n",
            " * \n",
            " *  * \n",
            " *  *  * \n",
            " *  *  *  * \n",
            " * \n",
            " *  * \n",
            " *  *  * \n",
            " *  *  *  * \n",
            " *  *  *  *  * \n"
          ]
        }
      ]
    },
    {
      "cell_type": "code",
      "source": [
        "for i in range (10):\n",
        "  print (\"\"*i + \"*\" *(19-2*i) + \"\"*i)\n",
        "         \n",
        "# if i = 1 17 \n",
        "# if i = 2 15 \n",
        "# if i = 3 13 \n",
        "\n",
        "for i in range (5):\n",
        "  print (\"*\") \n",
        "\n",
        "for i in range (5):\n",
        "  print (\"\"*i + \"*\" * ((1*(1+i))) + \"\"*1 )\n",
        "\n",
        "for i in range (1,6):\n",
        "  print (\"*\" * i)"
      ],
      "metadata": {
        "id": "DX8CvYPNyQB7",
        "outputId": "58e70201-8e29-4d47-d9b0-0771e3cdef55",
        "colab": {
          "base_uri": "https://localhost:8080/"
        }
      },
      "execution_count": null,
      "outputs": [
        {
          "output_type": "stream",
          "name": "stdout",
          "text": [
            "*******************\n",
            "*****************\n",
            "***************\n",
            "*************\n",
            "***********\n",
            "*********\n",
            "*******\n",
            "*****\n",
            "***\n",
            "*\n",
            "*\n",
            "*\n",
            "*\n",
            "*\n",
            "*\n",
            "*\n",
            "**\n",
            "***\n",
            "****\n",
            "*****\n",
            "*\n",
            "**\n",
            "***\n",
            "****\n",
            "*****\n"
          ]
        }
      ]
    },
    {
      "cell_type": "code",
      "source": [
        "for i in range (1,6): \n",
        "  print (\"*\" * i)\n",
        "\n",
        "for i in range (4):\n",
        "  print (\"\"*i + \"*\" * (4-i) + \"\"*i)"
      ],
      "metadata": {
        "id": "jLCsGQ4OyTQN",
        "outputId": "fb038905-7a1f-4e0c-bc72-9f4af2e89e54",
        "colab": {
          "base_uri": "https://localhost:8080/"
        }
      },
      "execution_count": null,
      "outputs": [
        {
          "output_type": "stream",
          "name": "stdout",
          "text": [
            "*\n",
            "**\n",
            "***\n",
            "****\n",
            "*****\n",
            "****\n",
            "***\n",
            "**\n",
            "*\n"
          ]
        }
      ]
    }
  ]
}