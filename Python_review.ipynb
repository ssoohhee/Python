{
  "cells": [
    {
      "cell_type": "markdown",
      "metadata": {
        "id": "s39SnnxrZxsx"
      },
      "source": [
        "# Python Review\n",
        "- 1-0. first step to python\n",
        "- 1-1. object reference\n",
        "- 1-2. list\n",
        "- 1-3. tuple\n",
        "- 1-4. dict\n",
        "- 1-5. string\n",
        "- 1-6. set\n",
        "- 1-7. class\n",
        "- 1-8. priority queue"
      ]
    },
    {
      "cell_type": "markdown",
      "metadata": {
        "id": "G75eoF2DMkVd"
      },
      "source": [
        "## 1-0. first step to python\n",
        "- Python: Introduced by Guido van Rossum in 1991\n",
        "    * Interpreter language : Python, MATLAB, Basic, …\n",
        "        * cf. compiler: executable code  (*.exe, byte code for Java) \n",
        "        * line by line interpretation at the time of execution\n",
        "    * No variable declaration\n",
        "        * variable is created at the first assignment\n",
        "- Philosophy of python language\n",
        "    * Easy-to-use\n",
        "    * Readability : block structure using indentation (instead of { } or begin – end)\n",
        "    * Object-oriented\n",
        "- Position of Python today\n",
        "    * Increasing use in industry and academia\n",
        "    * Glue language\n",
        "        * Interoperate with other languages, i.e. C/C++ (C-API), Java\n",
        "        * Script language for various commercial software (Maya,…)\n",
        "    * Fast development speed, slow execution speed\n",
        "        * prototyping\n",
        "    * Many useful modules/packages developed\n",
        "        * DB support: SQLite3\n",
        "        * GUI: PyQt, Tkinter\n",
        "        * Web Service framework: Djiango\n",
        "        * Search engine: PyLucene\n",
        "        * Network, internet modules: socket, email, mailbox, webbrowser, urllib, XML, ….\n",
        "        * Machine learning, deep learning: PyTorch, TensorFlow, ...\n",
        "- Disadvantage of Python\n",
        "    * slow: when programmed in pure python, slower than C/C++\n",
        "        * No problem if main computation modules are built in C/C++ and python is used as a wrapper\n",
        "    * Multi-thread is supported only limitedly\n",
        "- First Python program :   "
      ]
    },
    {
      "cell_type": "code",
      "execution_count": null,
      "metadata": {
        "id": "UbCm27lmMkVf",
        "outputId": "897ea237-e21b-4a55-8c5b-f8330e3b4530"
      },
      "outputs": [
        {
          "name": "stdout",
          "output_type": "stream",
          "text": [
            "Arithmetic average = 9.0\n"
          ]
        }
      ],
      "source": [
        "''' multi-line comments \n",
        "  - first python program\n",
        "  - for IE261\n",
        "'''\n",
        "import math  # import math module for sqrt function\n",
        "\n",
        "def a_average(a, b):\n",
        "    s = a + b\n",
        "    return s/2\n",
        "\n",
        "x = 6\n",
        "y = 12\n",
        "print ('Arithmetic average =', a_average(x,y))"
      ]
    },
    {
      "cell_type": "code",
      "execution_count": null,
      "metadata": {
        "id": "OmEc83ALMkVk"
      },
      "outputs": [],
      "source": [
        "def g_average(a, b):\n",
        "    a = a * b\n",
        "    return math.sqrt(a)\n",
        "\n",
        "print ('Geometric average =', g_average(x,y))\n",
        "print (\"x =\",x, \", y =\", y)  # TAQ.  Value of x here?"
      ]
    },
    {
      "cell_type": "markdown",
      "metadata": {
        "id": "oEgtlYRZMkVm"
      },
      "source": [
        "## 1-1. Everything is object in Python\n",
        "- variable table stores reference id for each variable\n",
        "    * name : variable name\n",
        "    * id : reference id ($\\approx$ pointer, address)\n",
        "- object table stores objects\n",
        "    * id : reference id\n",
        "    * type : object type\n",
        "    * count : reference count\n",
        "    * value : contents of the object  \n",
        "![image.png](attachment:27702bd0-0acb-4e1e-a882-6a34a35a9f11.png)"
      ]
    },
    {
      "cell_type": "code",
      "execution_count": null,
      "metadata": {
        "id": "EqIAvQhRMkVn"
      },
      "outputs": [],
      "source": [
        "x = 1000\n",
        "y = x\n",
        "x = 2000\n",
        "print('y =', y)\n",
        "a = [x, y]\n",
        "b = a\n",
        "b[1] = x\n",
        "print(b)\n",
        "y = 'hello'"
      ]
    },
    {
      "cell_type": "markdown",
      "metadata": {
        "id": "MgQzM2FbzhpW"
      },
      "source": [
        "## 1-2. List\n",
        " list : mutable sequence of objects (contents of a list can be changed)\n",
        "    - python list is an array-based list (not linked list)\n",
        "    - contains reference id's ($\\approx$ pointers) to element objects\n",
        "    \n",
        "#### creating lists"
      ]
    },
    {
      "cell_type": "code",
      "execution_count": null,
      "metadata": {
        "colab": {
          "base_uri": "https://localhost:8080/",
          "height": 34
        },
        "id": "1gUdm3jfzlCB",
        "outputId": "a84844d5-a2f6-43f5-f587-8e00535ea56f"
      },
      "outputs": [
        {
          "name": "stdout",
          "output_type": "stream",
          "text": [
            "[] [] [1, 2, 3, 4, 5, 6]\n",
            "[0, 1, 2, 3, 4] [6, 7, 8, 9] [11, 13, 15, 17, 19]\n",
            "[0, 1, 2, 3, 4, 6, 7, 8, 9, 11, 13, 15, 17, 19]\n",
            "[0, 0, 0, 0, 0, 0, 0, 0, 0, 0]\n"
          ]
        }
      ],
      "source": [
        "a = []\n",
        "b = list()\n",
        "c = [1,2,3,4,5,6]\n",
        "print (a,b,c)\n",
        "\n",
        "d = list(range(5))\n",
        "e = list(range(6,10))\n",
        "f = list(range(11,20,2))\n",
        "print(d,e,f)\n",
        "\n",
        "h = d + e + f\n",
        "print(h)\n",
        "\n",
        "zeros = [0] * 10\n",
        "print(zeros)"
      ]
    },
    {
      "cell_type": "markdown",
      "metadata": {
        "id": "h9l7kUOC43iL"
      },
      "source": [
        "#### mixing data types\n",
        "Lists can contain multple data types"
      ]
    },
    {
      "cell_type": "code",
      "execution_count": null,
      "metadata": {
        "colab": {
          "base_uri": "https://localhost:8080/",
          "height": 34
        },
        "id": "jBqfcq6Q4-Yl",
        "outputId": "38f14f53-4a84-4c4a-d56b-3254d72bd0a7"
      },
      "outputs": [
        {
          "data": {
            "text/plain": [
              "['abcde', 1, 2.0, [13, 14], (3, 2, 1)]"
            ]
          },
          "execution_count": 11,
          "metadata": {},
          "output_type": "execute_result"
        }
      ],
      "source": [
        "mixed = [\"abcde\", 1, 2.0, [13,14], (3,2,1)]\n",
        "mixed"
      ]
    },
    {
      "cell_type": "markdown",
      "metadata": {
        "id": "Z9Oj-EBjMkVv"
      },
      "source": [
        "#### list comprehension"
      ]
    },
    {
      "cell_type": "code",
      "execution_count": null,
      "metadata": {
        "id": "bxyT4UVWMkVz",
        "outputId": "0486bea6-2b83-4418-d614-2516b42352de"
      },
      "outputs": [
        {
          "data": {
            "text/plain": [
              "[0, 4, 16, 36, 64]"
            ]
          },
          "execution_count": 12,
          "metadata": {},
          "output_type": "execute_result"
        }
      ],
      "source": [
        "x = []\n",
        "for i in range(10):\n",
        "    if i % 2 == 0:\n",
        "        x.append(i*i)\n",
        "x"
      ]
    },
    {
      "cell_type": "code",
      "execution_count": null,
      "metadata": {
        "id": "Sh2YvjBfMkV0",
        "outputId": "9c9f7f79-cc99-4e5d-8eab-ec4f1b2d006e"
      },
      "outputs": [
        {
          "data": {
            "text/plain": [
              "[0, 4, 16, 36, 64]"
            ]
          },
          "execution_count": 13,
          "metadata": {},
          "output_type": "execute_result"
        }
      ],
      "source": [
        "x = [i*i for i in range(10) if i % 2 == 0]\n",
        "x"
      ]
    },
    {
      "cell_type": "code",
      "execution_count": null,
      "metadata": {
        "id": "bHhFCPNLMkV1",
        "outputId": "5b9e1f2f-3e8c-45db-dee4-1c60c6a74be7"
      },
      "outputs": [
        {
          "data": {
            "text/plain": [
              "[0, 0, 0, 0, 0, 2, 3, 4, 0, 2, 6, 8, 0, 3, 6, 12, 0, 4, 8, 12]"
            ]
          },
          "execution_count": 14,
          "metadata": {},
          "output_type": "execute_result"
        }
      ],
      "source": [
        "y = [i*j for i in range(5) for j in range(5) if i != j]\n",
        "y"
      ]
    },
    {
      "cell_type": "code",
      "execution_count": null,
      "metadata": {
        "id": "nO1_9saAMkV2",
        "outputId": "25ae0f2f-4246-42d2-98f5-127c2fdbb4c7"
      },
      "outputs": [
        {
          "data": {
            "text/plain": [
              "[0, 0, 0, 0, 0, 2, 3, 4, 0, 2, 6, 8, 0, 3, 6, 12, 0, 4, 8, 12]"
            ]
          },
          "execution_count": 15,
          "metadata": {},
          "output_type": "execute_result"
        }
      ],
      "source": [
        "y = []\n",
        "for i in range(5):\n",
        "    for j in range(5):\n",
        "        if i != j:\n",
        "            y.append(i*j)\n",
        "y"
      ]
    },
    {
      "cell_type": "markdown",
      "metadata": {
        "id": "_rehYX145nEk"
      },
      "source": [
        "#### access items with indexing\n",
        "Items in lists can be accessed using indices in a similar fashion to strings."
      ]
    },
    {
      "cell_type": "code",
      "execution_count": null,
      "metadata": {
        "id": "98QVzpN_ogFQ"
      },
      "outputs": [],
      "source": [
        "c = [1,2,3,4,5,6]\n",
        "print(c[0], c[2], c[-1], c[-2])"
      ]
    },
    {
      "cell_type": "code",
      "execution_count": null,
      "metadata": {
        "id": "aC_f3duXMkV4",
        "outputId": "c7a53a7c-a342-4f69-a2dc-024bc2b3ff02"
      },
      "outputs": [
        {
          "name": "stdout",
          "output_type": "stream",
          "text": [
            "[2, 3, 4]\n",
            "[1, 2, 3]\n",
            "[4, 5, 6]\n",
            "[4, 5]\n",
            "[1, 2, 3, 4, 5, 6]\n"
          ]
        }
      ],
      "source": [
        "# slice of a list\n",
        "print(c[1:4])\n",
        "print(c[:3])  # c[0:3]\n",
        "print(c[3:])  # c[3:end]\n",
        "print(c[3:-1])\n",
        "print(c[:])"
      ]
    },
    {
      "cell_type": "code",
      "execution_count": null,
      "metadata": {
        "id": "rMaRv3ryMkV5"
      },
      "outputs": [],
      "source": [
        "cr = c[5:2:-1]  \n",
        "cr"
      ]
    },
    {
      "cell_type": "markdown",
      "metadata": {
        "id": "g4-XjayC8KO7"
      },
      "source": [
        "#### changing contents of a list"
      ]
    },
    {
      "cell_type": "code",
      "execution_count": null,
      "metadata": {
        "colab": {
          "base_uri": "https://localhost:8080/",
          "height": 34
        },
        "id": "7l9O1BOz89Sg",
        "outputId": "f5ed7734-afd3-4dcd-8311-ac809622b29b"
      },
      "outputs": [
        {
          "name": "stdout",
          "output_type": "stream",
          "text": [
            "['kim', 'lee', 'shin', 'xiong']\n",
            "['anna', 'kim', 'lee', 'park', 'shin', 'xiong']\n"
          ]
        }
      ],
      "source": [
        "names = [\"kim\", \"lee\", \"shin\"]\n",
        "names.append(\"xiong\")\n",
        "print(names)\n",
        "names.insert(0, \"anna\")\n",
        "names.insert(3, \"park\")\n",
        "print(names)"
      ]
    },
    {
      "cell_type": "code",
      "execution_count": null,
      "metadata": {
        "colab": {
          "base_uri": "https://localhost:8080/",
          "height": 34
        },
        "id": "BZGy8c8bov2q",
        "outputId": "4fc4fd41-0e1e-4324-8302-b0ce19558908"
      },
      "outputs": [
        {
          "data": {
            "text/plain": [
              "['anna', 'kim', 'lee', 'park', 'Shen', 'xiong']"
            ]
          },
          "execution_count": 42,
          "metadata": {},
          "output_type": "execute_result"
        }
      ],
      "source": [
        "names[4] = \"Shen\"\n",
        "names"
      ]
    },
    {
      "cell_type": "code",
      "execution_count": null,
      "metadata": {
        "colab": {
          "base_uri": "https://localhost:8080/",
          "height": 34
        },
        "id": "egbXdmQ__UB4",
        "outputId": "439400af-99d2-4d6c-aaac-f16c822bf73e"
      },
      "outputs": [
        {
          "data": {
            "text/plain": [
              "['anna', 'kim', 'lee', 'Shen', 'park', 'xiong']"
            ]
          },
          "execution_count": 43,
          "metadata": {},
          "output_type": "execute_result"
        }
      ],
      "source": [
        "# swap\n",
        "names[3], names[4] = names[4], names[3]\n",
        "names"
      ]
    },
    {
      "cell_type": "code",
      "execution_count": null,
      "metadata": {
        "id": "8H0gi08tMkV8",
        "outputId": "4cb8288e-acbe-4b6e-b742-15f7ef7c4e16"
      },
      "outputs": [
        {
          "name": "stdout",
          "output_type": "stream",
          "text": [
            "['anna', 'kim', 'lee', 'Shen', 'park'] xiong\n",
            "anna kim ['lee', 'Shen', 'park', 'xiong']\n"
          ]
        }
      ],
      "source": [
        "# pop : remove and return an item\n",
        "last = names.pop()\n",
        "print(names, last)\n",
        "names.append(last)\n",
        "\n",
        "second = names.pop(1)\n",
        "first = names.pop(0)\n",
        "print(first, second, names)"
      ]
    },
    {
      "cell_type": "code",
      "execution_count": null,
      "metadata": {
        "id": "q7mXmMicMkV9",
        "outputId": "88deaf37-7afa-47e9-9efd-dec096128076"
      },
      "outputs": [
        {
          "name": "stdout",
          "output_type": "stream",
          "text": [
            "['lee', 'park', 'xiong']\n"
          ]
        }
      ],
      "source": [
        "if \"Shen\" in names:\n",
        "    names.remove(\"Shen\")\n",
        "    print(names)\n",
        "else:\n",
        "    print (f\"No Shen in {names}\")"
      ]
    },
    {
      "cell_type": "markdown",
      "metadata": {
        "id": "xUBELu6nMkV9"
      },
      "source": [
        "#### sorting list"
      ]
    },
    {
      "cell_type": "code",
      "execution_count": null,
      "metadata": {
        "id": "ieshczXpMkV9",
        "outputId": "28f93b46-479f-4ab6-b5cf-ce55c84f3efb"
      },
      "outputs": [
        {
          "name": "stdout",
          "output_type": "stream",
          "text": [
            "names= ['xiong', 'lee', 'shin', 'an', 'park', 'k']\n",
            "names= ['xiong', 'lee', 'shin', 'an', 'park', 'k']\n",
            "snames= ['an', 'k', 'lee', 'park', 'shin', 'xiong']\n",
            "rnames= ['xiong', 'shin', 'park', 'lee', 'k', 'an']\n",
            "lnames= ['k', 'an', 'lee', 'shin', 'park', 'xiong']\n",
            "names= ['an', 'k', 'lee', 'park', 'shin', 'xiong']\n",
            "names= ['xiong', 'shin', 'park', 'lee', 'k', 'an']\n"
          ]
        }
      ],
      "source": [
        "names = ['xiong', 'lee', 'shin', 'an', 'park', 'k']\n",
        "scores = [60, 30, 80, 40, 50, 10]\n",
        "print(\"names=\", names)\n",
        "\n",
        "snames = sorted(names)\n",
        "print(\"names=\", names)\n",
        "print(\"snames=\", snames)\n",
        "rnames = sorted(names, reverse=True)\n",
        "print(\"rnames=\", rnames)\n",
        "\n",
        "lnames = sorted(names, key=len)  # sort using length\n",
        "print(\"lnames=\", lnames)\n",
        "\n",
        "names.sort()  # in-place sorting\n",
        "print(\"names=\", names)\n",
        "names.reverse()  # in-place reversing\n",
        "print(\"names=\", names)"
      ]
    },
    {
      "cell_type": "code",
      "execution_count": null,
      "metadata": {
        "id": "PwQrnmKiMkV-",
        "outputId": "06a671d4-8391-4578-9068-7a710e8e42c5"
      },
      "outputs": [
        {
          "name": "stdout",
          "output_type": "stream",
          "text": [
            "index= [5, 1, 3, 4, 0, 2]\n",
            "index= [5, 1, 3, 4, 0, 2]\n",
            "onames= ['an', 'shin', 'lee', 'k', 'xiong', 'park']\n",
            "npidx= [5 1 3 4 0 2]\n"
          ]
        }
      ],
      "source": [
        "idx = sorted(range(len(names)), key=scores.__getitem__)\n",
        "print(\"index=\", idx)\n",
        "idx = sorted(range(len(names)), key=lambda i:scores[i])\n",
        "print(\"index=\", idx)\n",
        "\n",
        "onames = [names[i] for i in idx]\n",
        "print(\"onames=\", onames)\n",
        "\n",
        "import numpy as np\n",
        "npidx = np.argsort(scores)\n",
        "print (\"npidx=\", npidx)"
      ]
    },
    {
      "cell_type": "code",
      "execution_count": null,
      "metadata": {
        "id": "8NtN3UhVMkV-",
        "outputId": "480c0c20-0a72-4b8e-cc93-62c0b0a06836"
      },
      "outputs": [
        {
          "name": "stdout",
          "output_type": "stream",
          "text": [
            "a =  [100, 2, 3]\n",
            "b =  [100, 2, 3]\n"
          ]
        }
      ],
      "source": [
        "a = [1,2,3]\n",
        "b = a\n",
        "b[0] = 100\n",
        "print(\"a = \", a)\n",
        "print(\"b = \", b)"
      ]
    },
    {
      "cell_type": "code",
      "execution_count": null,
      "metadata": {
        "colab": {
          "base_uri": "https://localhost:8080/"
        },
        "id": "ew7fjuTAMkV_",
        "outputId": "dc614eba-dc60-4cd1-c37a-ed1d50baae6b"
      },
      "outputs": [
        {
          "output_type": "stream",
          "name": "stdout",
          "text": [
            "a =  [1, 2, 3]\n",
            "b =  [100, 2, 3]\n"
          ]
        }
      ],
      "source": [
        "# copying a list\n",
        "import copy\n",
        "a = [1,2,3]\n",
        "b = copy.copy(a)\n",
        "b[0] = 100\n",
        "print(\"a = \", a)\n",
        "print(\"b = \", b)"
      ]
    },
    {
      "cell_type": "code",
      "execution_count": null,
      "metadata": {
        "colab": {
          "base_uri": "https://localhost:8080/"
        },
        "id": "VxjfSD2DMkV_",
        "outputId": "d4d15b58-3931-4f8e-a595-685806e3b3e7"
      },
      "outputs": [
        {
          "output_type": "stream",
          "name": "stdout",
          "text": [
            "c =  [[1, 2], [3, 4]]\n",
            "d =  [[1, 2], [3, 4]]\n",
            "e =  [[1, 2], [3, 4]]\n"
          ]
        }
      ],
      "source": [
        "# shallow copy\n",
        "a = [1,2]\n",
        "b = [3,4]\n",
        "c = [a,b]\n",
        "print(\"c = \", c)\n",
        "\n",
        "d = c   # copy reference\n",
        "print(\"d = \", d)\n",
        "\n",
        "e = copy.copy(c)  # copy contents\n",
        "print(\"e = \", e)"
      ]
    },
    {
      "cell_type": "code",
      "execution_count": null,
      "metadata": {
        "colab": {
          "base_uri": "https://localhost:8080/"
        },
        "id": "qNnSA7WoMkV_",
        "outputId": "98967261-78b4-4656-8cc1-22211cf63f91"
      },
      "outputs": [
        {
          "output_type": "stream",
          "name": "stdout",
          "text": [
            "c =  [[100, 2], [3, 4]]\n",
            "d =  [[100, 2], [3, 4]]\n",
            "e =  [[100, 2], [3, 4]]\n"
          ]
        }
      ],
      "source": [
        "# TAQ : Guess the outputs in this cell\n",
        "a[0] = 100\n",
        "print(\"c = \", c)\n",
        "print(\"d = \", d)\n",
        "print(\"e = \", e)"
      ]
    },
    {
      "cell_type": "code",
      "execution_count": null,
      "metadata": {
        "colab": {
          "base_uri": "https://localhost:8080/"
        },
        "id": "tI0y9g4mMkV_",
        "outputId": "d0b7df70-2e56-40f7-98ee-aa6ad5a61c7a"
      },
      "outputs": [
        {
          "output_type": "stream",
          "name": "stdout",
          "text": [
            "c =  [[1, 2], [3, 4]]\n",
            "d =  [[1, 2], [3, 4]]\n",
            "e =  [[1, 2], [3, 4]]\n",
            "c =  [[100, 2], [3, 4]]\n",
            "d =  [[100, 2], [3, 4]]\n",
            "e =  [[1, 2], [3, 4]]\n"
          ]
        }
      ],
      "source": [
        "# deep copy\n",
        "a = [1,2]\n",
        "b = [3,4]\n",
        "c = [a,b]\n",
        "print(\"c = \", c)\n",
        "\n",
        "d = c   # copy reference\n",
        "print(\"d = \", d)\n",
        "\n",
        "# TAQ: How to make a fully independent copy of c?\n",
        "e = [copy.copy(a), copy.copy(b)]  \n",
        "\n",
        "print(\"e = \", e)\n",
        "\n",
        "a[0] = 100\n",
        "print(\"c = \", c)\n",
        "print(\"d = \", d)\n",
        "print(\"e = \", e)"
      ]
    },
    {
      "cell_type": "markdown",
      "metadata": {
        "id": "Q-6cAFG6MkWA"
      },
      "source": [
        "## 1-3. Tuple\n",
        " tuple : immutable sequence of objects (contents of a list can be changed)\n",
        "    - contents of a tuple cannot be altered    "
      ]
    },
    {
      "cell_type": "code",
      "execution_count": null,
      "metadata": {
        "colab": {
          "base_uri": "https://localhost:8080/",
          "height": 34
        },
        "id": "7Zqb_MU2UEJa",
        "outputId": "0b125537-00c5-4bd2-85d4-3dc130fcf6b7"
      },
      "outputs": [
        {
          "name": "stdout",
          "output_type": "stream",
          "text": [
            "()\n",
            "(1, 2, 3)\n",
            "1 2 3\n",
            "4 5 6\n",
            "(1, 2, 3, 5, 7, 11, 13, 17, 19, 23, 29) (7, 11) 29\n"
          ]
        }
      ],
      "source": [
        "a = ()\n",
        "a = tuple()\n",
        "print(a)\n",
        "b = 1,2,3  # packing\n",
        "print(b)\n",
        "x,y,z = b  # unpacking\n",
        "print (x, y, z)\n",
        "x,y,z = 4,5,6  # multiple assignments : packing-unpacking\n",
        "print (x, y, z)\n",
        "\n",
        "primes = (1,2,3,5,7,11,13,17,19,23,29)\n",
        "print(primes, primes[4:6], primes[-1])"
      ]
    },
    {
      "cell_type": "code",
      "execution_count": null,
      "metadata": {
        "id": "oCevnC92MkWA"
      },
      "outputs": [],
      "source": [
        "# TAQ : What would happend here?\n",
        "primes[1] = 0"
      ]
    },
    {
      "cell_type": "markdown",
      "metadata": {
        "id": "jNo-ZWZRMkWB"
      },
      "source": [
        "## 1-4. String in python\n",
        "- class str\n",
        "- immutable sequence of characters"
      ]
    },
    {
      "cell_type": "code",
      "execution_count": null,
      "metadata": {
        "id": "97eaF4uKMkWB",
        "outputId": "0ead3b47-2eef-4b01-fa9a-12127df07380"
      },
      "outputs": [
        {
          "name": "stdout",
          "output_type": "stream",
          "text": [
            "Hello, Mr.'Smart' 'Smart'\n",
            "['kaist', 'ac', 'kr']\n"
          ]
        }
      ],
      "source": [
        "s1 = 'Hello'\n",
        "s2 = \"Mr.'Smart'\"\n",
        "s12 = s1 + ', ' + s2\n",
        "print(s12, s12[-7:])\n",
        "dom = 'kaist.ac.kr'\n",
        "tokens = dom.split(\".\")\n",
        "print(tokens)"
      ]
    },
    {
      "cell_type": "code",
      "execution_count": null,
      "metadata": {
        "id": "DHnn8cQcMkWB",
        "outputId": "c0afc853-8904-4df6-c734-3f573bbad921"
      },
      "outputs": [
        {
          "name": "stdout",
          "output_type": "stream",
          "text": [
            "3.141592^2 = 9.8696\n"
          ]
        }
      ],
      "source": [
        "# string formatting\n",
        "i = 2\n",
        "pi = 3.141592\n",
        "fs = f'{pi}^{i} = {pi**i:.4f}'\n",
        "print(fs)"
      ]
    },
    {
      "cell_type": "markdown",
      "metadata": {
        "id": "SxpzGoM_Z_RU"
      },
      "source": [
        "## 1-5. Dictionary (Hash map) \n",
        "- dict (dictionary) is a mapping of key value pairs.\n",
        "- dict uses hash map"
      ]
    },
    {
      "cell_type": "markdown",
      "metadata": {
        "id": "l9nWQuW1oLCE"
      },
      "source": [
        "#### Create and using a dict"
      ]
    },
    {
      "cell_type": "code",
      "execution_count": null,
      "metadata": {
        "colab": {
          "base_uri": "https://localhost:8080/",
          "height": 34
        },
        "id": "45C_FS-eoR-3",
        "outputId": "bd814a64-d7e0-4577-fbe0-46c721330ab1"
      },
      "outputs": [
        {
          "name": "stdout",
          "output_type": "stream",
          "text": [
            "{'xiong': 60, 'lee': 30, 'shin': 80, 'an': 40, 'park': 50, 'k': 10}\n"
          ]
        }
      ],
      "source": [
        "d = {\n",
        "    'xiong' : 60,\n",
        "    'lee' : 30,\n",
        "    'shin' : 80,\n",
        "    'an' : 40,\n",
        "    'park' : 50,\n",
        "    'k' : 10\n",
        "}\n",
        "print(d)"
      ]
    },
    {
      "cell_type": "code",
      "execution_count": null,
      "metadata": {
        "id": "eMppcufFMkWD",
        "outputId": "3251fc1b-4e8a-407c-dde6-0757eee5178c"
      },
      "outputs": [
        {
          "name": "stdout",
          "output_type": "stream",
          "text": [
            "score for xiong = 60\n",
            "score for lee = 30\n",
            "score for shin = 85\n",
            "score for an = 40\n",
            "score for park = 50\n",
            "score for k = 10\n",
            "score for cho = 65\n",
            "total score = 340\n",
            "\n",
            "key xiong - 60 value\n",
            "key lee - 30 value\n",
            "key shin - 85 value\n",
            "key an - 40 value\n",
            "key park - 50 value\n",
            "key k - 10 value\n",
            "key cho - 65 value\n",
            "cho is not in dict d\n"
          ]
        }
      ],
      "source": [
        "d['cho'] = 65    # append\n",
        "d['shin'] = 85   # replace\n",
        "for k in d.keys():\n",
        "    print(f'score for {k} = {d[k]}')\n",
        "\n",
        "total = 0\n",
        "for v in d.values():\n",
        "    total += v\n",
        "print(f'total score = {total}\\n')\n",
        "\n",
        "for k, v in d.items():\n",
        "    print(f'key {k} - {v} value')\n",
        "    \n",
        "s = 'cho'\n",
        "del(d[s])\n",
        "if s in d.keys():\n",
        "    print(f'score for {s} = {d[s]}')\n",
        "else:\n",
        "    print(f'{s} is not in dict d') "
      ]
    },
    {
      "cell_type": "markdown",
      "metadata": {
        "id": "AnFGTgxCiZnk"
      },
      "source": [
        "#### only immutables can be used as key for dict\n",
        "\n",
        "- tuples : immutable --> can be used as key\n",
        "- list : mutable --> cannot be used as key"
      ]
    },
    {
      "cell_type": "code",
      "execution_count": null,
      "metadata": {
        "colab": {
          "base_uri": "https://localhost:8080/",
          "height": 198
        },
        "id": "16t9F7PPipo4",
        "outputId": "ad113919-80cc-44cd-cc76-ad1d252dde27"
      },
      "outputs": [
        {
          "name": "stdout",
          "output_type": "stream",
          "text": [
            "50\n"
          ]
        }
      ],
      "source": [
        "edge = {}\n",
        "tab = (1, 2) \n",
        "edge[tab] = 50\n",
        "print(edge[tab])"
      ]
    },
    {
      "cell_type": "code",
      "execution_count": null,
      "metadata": {
        "id": "a4PzCv5yMkWF"
      },
      "outputs": [],
      "source": [
        "# TAQ : What would happen here?\n",
        "lab = [3,4] \n",
        "edge[lab] = 50\n",
        "print(edge[lab])"
      ]
    },
    {
      "cell_type": "markdown",
      "metadata": {
        "id": "MQyttfWpMkWF"
      },
      "source": [
        "## 1-6. Set (Hash set) \n",
        "- set is a collection of key value pairs.\n",
        "- set uses hashing  (unordered)\n",
        "- duplication of members is not allowed"
      ]
    },
    {
      "cell_type": "markdown",
      "metadata": {
        "id": "_Bu_DUont1Ks"
      },
      "source": [
        "#### Create set from tuple or list"
      ]
    },
    {
      "cell_type": "code",
      "execution_count": null,
      "metadata": {
        "colab": {
          "base_uri": "https://localhost:8080/",
          "height": 34
        },
        "id": "epPCLrckt4Zy",
        "outputId": "df768aae-5c29-492b-a444-d60735fb0f36"
      },
      "outputs": [
        {
          "name": "stdout",
          "output_type": "stream",
          "text": [
            "alist =  ['a', 'a', 'a', 'b', 'c']\n",
            "aset =  {'c', 'b', 'a'}\n",
            "bset =  {'m', 'i', 'p', 's'}\n",
            "cset =  {'c', 'e', 'd'}\n"
          ]
        }
      ],
      "source": [
        "alist = ['a', 'a', 'a', 'b', 'c']\n",
        "print ('alist = ', alist)\n",
        "aset = set(alist)\n",
        "print ('aset = ', aset)\n",
        "bset = set('mississippi')  # set of characters\n",
        "print ('bset = ', bset)\n",
        "cset = {'c', 'd', 'e'}\n",
        "print ('cset = ', cset)"
      ]
    },
    {
      "cell_type": "markdown",
      "metadata": {
        "id": "jDMYvC0avu_C"
      },
      "source": [
        "#### Set operations"
      ]
    },
    {
      "cell_type": "code",
      "execution_count": null,
      "metadata": {
        "colab": {
          "base_uri": "https://localhost:8080/",
          "height": 34
        },
        "id": "hoZ7hcrBvwtc",
        "outputId": "1585f6f0-3122-480e-a69a-022460b0fbc7"
      },
      "outputs": [
        {
          "name": "stdout",
          "output_type": "stream",
          "text": [
            "cset =  {'c', 'e', 'd'}\n"
          ]
        }
      ],
      "source": [
        "cset.add('f')\n",
        "cset.add('f')\n",
        "cset.remove('f')\n",
        "print ('cset = ', cset)"
      ]
    },
    {
      "cell_type": "code",
      "execution_count": null,
      "metadata": {
        "id": "ovngrtJMMkWH",
        "outputId": "6bb912e9-7aca-4a52-ecdc-08a146169367"
      },
      "outputs": [
        {
          "name": "stdout",
          "output_type": "stream",
          "text": [
            "union       :  {'b', 'd', 'a', 'c', 'e'}\n",
            "intersection:  {'c'}\n",
            "difference  :  {'b', 'a'}\n",
            "xor         :  {'b', 'd', 'a', 'e'}\n"
          ]
        }
      ],
      "source": [
        "print (\"union       : \", aset | cset)\n",
        "print (\"intersection: \", aset & cset)\n",
        "print (\"difference  : \", aset - cset)\n",
        "print (\"xor         : \", aset ^ cset)"
      ]
    },
    {
      "cell_type": "markdown",
      "metadata": {
        "id": "khZ_NZWAMkWH"
      },
      "source": [
        "## 1-7. Class definition in Python\n",
        "- class : to organize related variables and functions in a frame\n",
        "    * members (member variables)\n",
        "    * methods (member functions)\n",
        "- object (instance)\n",
        "![image.png](attachment:14fd8c91-4bdb-499a-bcd1-1c16c269b009.png)"
      ]
    },
    {
      "cell_type": "code",
      "execution_count": null,
      "metadata": {
        "id": "Kko7Z0zzMkWH",
        "outputId": "bf2e152d-08e7-4a97-9938-627ccdf6554f"
      },
      "outputs": [
        {
          "name": "stdout",
          "output_type": "stream",
          "text": [
            "name:Shin, money: 0.00, height:170.00, value:170.00\n"
          ]
        }
      ],
      "source": [
        "class Person:\n",
        "    def __init__(self, s, m=0, h=170):\n",
        "        self.name = s\n",
        "        self.money = m\n",
        "        self.height = h\n",
        "    \n",
        "    def value(self):\n",
        "        return self.money + self.height\n",
        "    \n",
        "    def identify(self):\n",
        "        print (f\"name:{self.name}, money:{self.money:5.2f}, \" +\n",
        "               f\"height:{self.height:.2f}, value:{self.value():.2f}\")\n",
        "        \n",
        "    def __lt__(self, other):\n",
        "        pass # TAQ : code here for defining natural order\n",
        "    \n",
        "\n",
        "p = Person(\"Shin\")\n",
        "p.identify()"
      ]
    },
    {
      "cell_type": "code",
      "execution_count": null,
      "metadata": {
        "id": "l00HLCmjMkWI",
        "outputId": "c8df819f-3643-48a2-ba9f-dc7e542010d5"
      },
      "outputs": [
        {
          "name": "stdout",
          "output_type": "stream",
          "text": [
            "name:Kim, money: 0.00, height:170.00, value:270.00\n"
          ]
        }
      ],
      "source": [
        "class Student(Person):\n",
        "    def __init__(self, s, m=0, h=170, b=100):\n",
        "        super().__init__(s, m, h)  # super(Student,self).__init__(s, m, h, b)\n",
        "        self.brain = b\n",
        "    \n",
        "    def value(self):\n",
        "        return super().value() + self.brain\n",
        "    \n",
        "s = Student(\"Kim\")\n",
        "s.identify()"
      ]
    },
    {
      "cell_type": "code",
      "execution_count": null,
      "metadata": {
        "id": "jn8MqH-TMkWI"
      },
      "outputs": [],
      "source": [
        "def identify_all(L):\n",
        "    for p in L:\n",
        "        p.identify()    "
      ]
    },
    {
      "cell_type": "code",
      "execution_count": null,
      "metadata": {
        "id": "d41TlHtvMkWI",
        "outputId": "43e32b71-dd96-4668-dac5-e0bb5559eecd"
      },
      "outputs": [
        {
          "name": "stdout",
          "output_type": "stream",
          "text": [
            "name:Person 0, money:26.30, height:184.01, value:210.31\n",
            "name:Student1, money:31.34, height:168.44, value:302.77\n",
            "name:Student2, money:83.35, height:186.18, value:378.17\n",
            "name:Student3, money:14.23, height:189.55, value:294.02\n",
            "name:Student4, money:36.24, height:188.39, value:356.94\n",
            "name:Student5, money:46.32, height:157.55, value:305.16\n",
            "name:Student6, money:36.28, height:160.99, value:277.46\n",
            "name:Person 7, money:18.91, height:158.27, value:177.18\n",
            "name:Person 8, money:61.20, height:174.99, value:236.20\n",
            "name:Student9, money:98.26, height:154.70, value:338.81\n"
          ]
        }
      ],
      "source": [
        "import random\n",
        "L = []\n",
        "for i in range(10):\n",
        "    h = 150 + 40*random.random()\n",
        "    m = 100*random.random()\n",
        "    u = random.random()\n",
        "    if u < 0.5:  # with probability 0.5\n",
        "        name = f\"Person {i}\"\n",
        "        p = Person(name, m, h)\n",
        "    else:\n",
        "        name = f\"Student{i}\"\n",
        "        b = 110 + 60*(random.random() - 0.5)\n",
        "        p = Student(name, m, h, b)\n",
        "    L.append(p)\n",
        "    \n",
        "identify_all(L)"
      ]
    },
    {
      "cell_type": "code",
      "execution_count": null,
      "metadata": {
        "id": "tZLKJx2DMkWJ",
        "outputId": "d92d2fa5-eb01-4745-b233-838db97d691b"
      },
      "outputs": [
        {
          "name": "stdout",
          "output_type": "stream",
          "text": [
            "name:Person 0, money:26.30, height:184.01, value:210.31\n",
            "name:Student6, money:36.28, height:160.99, value:277.46\n",
            "name:Student3, money:14.23, height:189.55, value:294.02\n",
            "name:Student1, money:31.34, height:168.44, value:302.77\n",
            "name:Student5, money:46.32, height:157.55, value:305.16\n",
            "name:Student4, money:36.24, height:188.39, value:356.94\n",
            "name:Student2, money:83.35, height:186.18, value:378.17\n",
            "name:Person 7, money:18.91, height:158.27, value:177.18\n",
            "name:Person 8, money:61.20, height:174.99, value:236.20\n",
            "name:Student9, money:98.26, height:154.70, value:338.81\n"
          ]
        }
      ],
      "source": [
        "# sort by the natural order defined by Person.__lt__() function\n",
        "M = sorted(L)\n",
        "identify_all(M)"
      ]
    },
    {
      "cell_type": "code",
      "execution_count": null,
      "metadata": {
        "id": "YKCJd9SEMkWJ"
      },
      "outputs": [],
      "source": [
        "# TAQ: How to sort by descending order of value()?\n",
        "\n",
        "\n",
        "identify_all(M)"
      ]
    },
    {
      "cell_type": "code",
      "execution_count": null,
      "metadata": {
        "id": "UcX7g_wtMkWK",
        "outputId": "286e5ea0-7ddb-4c98-c7ea-87f24b3087bb"
      },
      "outputs": [
        {
          "name": "stdout",
          "output_type": "stream",
          "text": [
            "name:Student8, money: 7.05, height:187.64, value:290.63\n",
            "name:Person 9, money:25.77, height:185.66, value:211.43\n",
            "name:Person 3, money:43.51, height:187.04, value:230.55\n",
            "name:Person 1, money:43.92, height:178.05, value:221.96\n",
            "name:Person 0, money:46.49, height:157.39, value:203.88\n",
            "name:Person 4, money:69.96, height:175.57, value:245.54\n",
            "name:Student2, money:70.71, height:159.63, value:364.24\n",
            "name:Person 6, money:75.76, height:174.93, value:250.69\n",
            "name:Student5, money:92.98, height:153.43, value:345.88\n",
            "name:Student7, money:96.43, height:158.06, value:393.38\n"
          ]
        }
      ],
      "source": [
        "# TAQ: How to sort in ascending order of money?\n",
        "\n",
        "\n",
        "identify_all(M)"
      ]
    },
    {
      "cell_type": "code",
      "execution_count": null,
      "metadata": {
        "id": "ZuOa6Qd-MkWK",
        "outputId": "6eb14889-acde-40b5-a5d6-2aa1b3d2e8fc"
      },
      "outputs": [
        {
          "name": "stdout",
          "output_type": "stream",
          "text": [
            "name:Student2, money:83.35, height:186.18, value:378.17\n",
            "name:Student9, money:98.26, height:154.70, value:338.81\n",
            "name:Person 8, money:61.20, height:174.99, value:236.20\n",
            "name:Student4, money:36.24, height:188.39, value:356.94\n",
            "name:Person 0, money:26.30, height:184.01, value:210.31\n",
            "name:Student5, money:46.32, height:157.55, value:305.16\n",
            "name:Student3, money:14.23, height:189.55, value:294.02\n",
            "name:Student1, money:31.34, height:168.44, value:302.77\n",
            "name:Student6, money:36.28, height:160.99, value:277.46\n",
            "name:Person 7, money:18.91, height:158.27, value:177.18\n"
          ]
        }
      ],
      "source": [
        "# TAQ: How to sort in descending order of (money+height)?\n",
        "\n",
        "\n",
        "identify_all(M)"
      ]
    },
    {
      "cell_type": "markdown",
      "metadata": {
        "id": "QSRiRggjMkWL"
      },
      "source": [
        "## 1-8. Priority queue with heap\n",
        "- PriorityQueue : queue with priority\n",
        "    * implemented using heap data structure\n",
        "    * put(a) : insert a\n",
        "    * get() : remove the smallest element and return it"
      ]
    },
    {
      "cell_type": "code",
      "execution_count": null,
      "metadata": {
        "id": "OG63fmKzMkWL"
      },
      "outputs": [],
      "source": [
        "from queue import PriorityQueue"
      ]
    },
    {
      "cell_type": "code",
      "execution_count": null,
      "metadata": {
        "id": "_V2X98b-MkWL",
        "outputId": "4a48f784-2889-479b-82e6-4e2d2f4ab3f0"
      },
      "outputs": [
        {
          "name": "stdout",
          "output_type": "stream",
          "text": [
            "10\n"
          ]
        }
      ],
      "source": [
        "pq = PriorityQueue()\n",
        "for p in L:  # L is a list of Person/Student objects\n",
        "    pq.put(p)\n",
        "    \n",
        "print (pq.qsize())"
      ]
    },
    {
      "cell_type": "code",
      "execution_count": null,
      "metadata": {
        "id": "ZwYUUObFMkWL"
      },
      "outputs": [],
      "source": [
        "while not pq.empty():\n",
        "    pq.get().identify()"
      ]
    }
  ],
  "metadata": {
    "colab": {
      "collapsed_sections": [
        "_rehYX145nEk",
        "g4-XjayC8KO7"
      ],
      "name": "Python review.ipynb",
      "provenance": []
    },
    "kernelspec": {
      "display_name": "Python 3",
      "language": "python",
      "name": "python3"
    },
    "language_info": {
      "codemirror_mode": {
        "name": "ipython",
        "version": 3
      },
      "file_extension": ".py",
      "mimetype": "text/x-python",
      "name": "python",
      "nbconvert_exporter": "python",
      "pygments_lexer": "ipython3",
      "version": "3.8.5"
    }
  },
  "nbformat": 4,
  "nbformat_minor": 0
}