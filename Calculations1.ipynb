{
  "nbformat": 4,
  "nbformat_minor": 0,
  "metadata": {
    "colab": {
      "name": "Calculations1.ipynb",
      "provenance": []
    },
    "kernelspec": {
      "name": "python3",
      "display_name": "Python 3"
    },
    "language_info": {
      "name": "python"
    }
  },
  "cells": [
    {
      "cell_type": "code",
      "source": [
        "n1 = 2\n",
        "n2 = 10 \n",
        "\n",
        "print(n1 > n2)\n",
        "print(n1 < n2)\n",
        "print(n1 >= n2)\n",
        "print(n1 <= n2)\n",
        "print(n1 == n2)\n",
        "print(n1 != n2)"
      ],
      "metadata": {
        "colab": {
          "base_uri": "https://localhost:8080/"
        },
        "id": "zb_RKne27sM7",
        "outputId": "1ae5d3b7-d0aa-4acc-fab9-d1b68da71e0a"
      },
      "execution_count": null,
      "outputs": [
        {
          "output_type": "stream",
          "name": "stdout",
          "text": [
            "False\n",
            "True\n",
            "False\n",
            "True\n",
            "False\n",
            "True\n"
          ]
        }
      ]
    },
    {
      "cell_type": "code",
      "source": [
        "s1 = \"abc\"\n",
        "s2 = \"def\"\n",
        "\n",
        "print(s1 > s2)\n",
        "print(s1 < s2)\n",
        "print(s1 >= s2)\n",
        "print(s1 <= s2)\n",
        "print(s1 == s2)\n",
        "print(s1 != s2)"
      ],
      "metadata": {
        "colab": {
          "base_uri": "https://localhost:8080/"
        },
        "id": "beLV1tom-A0o",
        "outputId": "32ccc375-2497-4afd-8df9-deb783b66e1b"
      },
      "execution_count": null,
      "outputs": [
        {
          "output_type": "stream",
          "name": "stdout",
          "text": [
            "False\n",
            "True\n",
            "False\n",
            "True\n",
            "False\n",
            "True\n"
          ]
        }
      ]
    },
    {
      "cell_type": "code",
      "source": [
        "#* multiplication\n",
        "#** square root of \n",
        "#% division \n",
        "#- subtraction\n",
        "#+ addition\n",
        "# == same \n",
        "# != diffrent\n",
        "# >= bigger or same\n",
        "# <= smaller or same \n",
        "\n",
        "print(3*5)\n",
        "print(15%3)\n",
        "print(15-3)\n",
        "print(15+3)"
      ],
      "metadata": {
        "colab": {
          "base_uri": "https://localhost:8080/"
        },
        "id": "oAqPE-WN97HZ",
        "outputId": "06ad677e-8951-459f-f198-dd4c2c33b274"
      },
      "execution_count": null,
      "outputs": [
        {
          "output_type": "stream",
          "name": "stdout",
          "text": [
            "15\n",
            "0\n",
            "12\n",
            "18\n"
          ]
        }
      ]
    },
    {
      "cell_type": "code",
      "source": [
        "# Write a program to display all prime numbers within a range. \n",
        "\n",
        "min = 25 \n",
        "max = 50 \n",
        "\n",
        "for n in range (min, max):\n",
        "  if n > 1:\n",
        "    for i in range (2,n):\n",
        "      if (n % i) == 0:\n",
        "        break\n",
        "      else:\n",
        "        print(n) "
      ],
      "metadata": {
        "colab": {
          "base_uri": "https://localhost:8080/"
        },
        "id": "OqGMYtnY8zPK",
        "outputId": "c5857458-09e3-41bb-dff7-543c213c9676"
      },
      "execution_count": null,
      "outputs": [
        {
          "output_type": "stream",
          "name": "stdout",
          "text": [
            "25\n",
            "25\n",
            "25\n",
            "27\n",
            "29\n",
            "29\n",
            "29\n",
            "29\n",
            "29\n",
            "29\n",
            "29\n",
            "29\n",
            "29\n",
            "29\n",
            "29\n",
            "29\n",
            "29\n",
            "29\n",
            "29\n",
            "29\n",
            "29\n",
            "29\n",
            "29\n",
            "29\n",
            "29\n",
            "29\n",
            "29\n",
            "29\n",
            "29\n",
            "29\n",
            "29\n",
            "31\n",
            "31\n",
            "31\n",
            "31\n",
            "31\n",
            "31\n",
            "31\n",
            "31\n",
            "31\n",
            "31\n",
            "31\n",
            "31\n",
            "31\n",
            "31\n",
            "31\n",
            "31\n",
            "31\n",
            "31\n",
            "31\n",
            "31\n",
            "31\n",
            "31\n",
            "31\n",
            "31\n",
            "31\n",
            "31\n",
            "31\n",
            "31\n",
            "31\n",
            "33\n",
            "35\n",
            "35\n",
            "35\n",
            "37\n",
            "37\n",
            "37\n",
            "37\n",
            "37\n",
            "37\n",
            "37\n",
            "37\n",
            "37\n",
            "37\n",
            "37\n",
            "37\n",
            "37\n",
            "37\n",
            "37\n",
            "37\n",
            "37\n",
            "37\n",
            "37\n",
            "37\n",
            "37\n",
            "37\n",
            "37\n",
            "37\n",
            "37\n",
            "37\n",
            "37\n",
            "37\n",
            "37\n",
            "37\n",
            "37\n",
            "37\n",
            "37\n",
            "37\n",
            "37\n",
            "39\n",
            "41\n",
            "41\n",
            "41\n",
            "41\n",
            "41\n",
            "41\n",
            "41\n",
            "41\n",
            "41\n",
            "41\n",
            "41\n",
            "41\n",
            "41\n",
            "41\n",
            "41\n",
            "41\n",
            "41\n",
            "41\n",
            "41\n",
            "41\n",
            "41\n",
            "41\n",
            "41\n",
            "41\n",
            "41\n",
            "41\n",
            "41\n",
            "41\n",
            "41\n",
            "41\n",
            "41\n",
            "41\n",
            "41\n",
            "41\n",
            "41\n",
            "41\n",
            "41\n",
            "41\n",
            "41\n",
            "43\n",
            "43\n",
            "43\n",
            "43\n",
            "43\n",
            "43\n",
            "43\n",
            "43\n",
            "43\n",
            "43\n",
            "43\n",
            "43\n",
            "43\n",
            "43\n",
            "43\n",
            "43\n",
            "43\n",
            "43\n",
            "43\n",
            "43\n",
            "43\n",
            "43\n",
            "43\n",
            "43\n",
            "43\n",
            "43\n",
            "43\n",
            "43\n",
            "43\n",
            "43\n",
            "43\n",
            "43\n",
            "43\n",
            "43\n",
            "43\n",
            "43\n",
            "43\n",
            "43\n",
            "43\n",
            "43\n",
            "43\n",
            "45\n",
            "47\n",
            "47\n",
            "47\n",
            "47\n",
            "47\n",
            "47\n",
            "47\n",
            "47\n",
            "47\n",
            "47\n",
            "47\n",
            "47\n",
            "47\n",
            "47\n",
            "47\n",
            "47\n",
            "47\n",
            "47\n",
            "47\n",
            "47\n",
            "47\n",
            "47\n",
            "47\n",
            "47\n",
            "47\n",
            "47\n",
            "47\n",
            "47\n",
            "47\n",
            "47\n",
            "47\n",
            "47\n",
            "47\n",
            "47\n",
            "47\n",
            "47\n",
            "47\n",
            "47\n",
            "47\n",
            "47\n",
            "47\n",
            "47\n",
            "47\n",
            "47\n",
            "47\n",
            "49\n",
            "49\n",
            "49\n",
            "49\n",
            "49\n"
          ]
        }
      ]
    },
    {
      "cell_type": "code",
      "source": [
        "# Write a Python program to get the largest number from a list\n",
        "\n",
        "list = [3,5,7,9]\n",
        "list.sort()\n",
        "b = list[-1]\n",
        "print(b)"
      ],
      "metadata": {
        "id": "WWKmNWpACYpK"
      },
      "execution_count": null,
      "outputs": []
    },
    {
      "cell_type": "code",
      "source": [
        "l = [2,1,3,4]\n",
        "t = l[0]\n",
        "for i in range (len(l)):\n",
        "  if l[i] >= t:\n",
        "    t = l[i]\n",
        "print(t)"
      ],
      "metadata": {
        "id": "-Mw2rd5vCaQS"
      },
      "execution_count": null,
      "outputs": []
    },
    {
      "cell_type": "code",
      "source": [
        "# Write a Python program to get the smallest number from a list (tuple에선 안됨)\n",
        "\n",
        "list = [5,7,9,11]\n",
        "list.sort()\n",
        "b = list[0]\n",
        "print(b)"
      ],
      "metadata": {
        "id": "rSGoP2O8CcvH"
      },
      "execution_count": null,
      "outputs": []
    },
    {
      "cell_type": "code",
      "source": [
        "l = [2,1,3,4]\n",
        "t = l[0]\n",
        "for i in range (len(l)):\n",
        "  if l[i] <= t:\n",
        "    t = l[i]\n",
        "print(t)"
      ],
      "metadata": {
        "id": "Nyz0IKnxCdyq"
      },
      "execution_count": null,
      "outputs": []
    },
    {
      "cell_type": "code",
      "source": [
        "# Reverse a given integer number.\n",
        "\n",
        "num = 76542\n",
        "num_string = str(num)\n",
        "reverse_num = '' \n",
        "\n",
        "for i in range (0,len(num_string)):\n",
        "    reverse_num = num_string[i] + reverse_num\n",
        "    print (reverse_num)"
      ],
      "metadata": {
        "colab": {
          "base_uri": "https://localhost:8080/"
        },
        "id": "aO67eZMo70o0",
        "outputId": "0f736d18-bc56-44a9-bb23-f0d16e94f5c4"
      },
      "execution_count": null,
      "outputs": [
        {
          "output_type": "stream",
          "name": "stdout",
          "text": [
            "7\n",
            "67\n",
            "567\n",
            "4567\n",
            "24567\n"
          ]
        }
      ]
    },
    {
      "cell_type": "code",
      "source": [
        "s = \"abcde\"\n",
        "print(s[5:0:-1])"
      ],
      "metadata": {
        "colab": {
          "base_uri": "https://localhost:8080/"
        },
        "id": "9mSmcuWZ-65C",
        "outputId": "566304b2-dc88-4a65-f71b-2be30945c8c6"
      },
      "execution_count": null,
      "outputs": [
        {
          "output_type": "stream",
          "name": "stdout",
          "text": [
            "edcb\n"
          ]
        }
      ]
    },
    {
      "cell_type": "code",
      "source": [
        "n = 12345\n",
        "s = str(n)\n",
        "print (s[::-1])\n",
        "\n",
        "s[0:5:2]\n",
        "\n",
        "print(str(12345)[ : :-1])"
      ],
      "metadata": {
        "colab": {
          "base_uri": "https://localhost:8080/"
        },
        "id": "KRBo5UDm69JR",
        "outputId": "15baf583-bd8f-49e6-99f5-e050134448fa"
      },
      "execution_count": null,
      "outputs": [
        {
          "output_type": "stream",
          "name": "stdout",
          "text": [
            "54321\n",
            "54321\n"
          ]
        }
      ]
    },
    {
      "cell_type": "code",
      "source": [
        "# Use a loop to display elements from a given list present at odd index positions. \n",
        "\n",
        "my_list = list ((10,20,30,40,50,60,70,80,90,100))\n",
        "print(my_list[1::2])"
      ],
      "metadata": {
        "colab": {
          "base_uri": "https://localhost:8080/"
        },
        "id": "80s-QLaH7-VM",
        "outputId": "1a4f9da5-4d1f-469e-d03f-67a64617e8c5"
      },
      "execution_count": null,
      "outputs": [
        {
          "output_type": "stream",
          "name": "stdout",
          "text": [
            "[20, 40, 60, 80, 100]\n"
          ]
        }
      ]
    },
    {
      "cell_type": "code",
      "source": [
        "# prime number \n",
        "min = 2\n",
        "max = 100\n",
        "\n",
        "for n in range (min,max+1):\n",
        "  isPrime = True\n",
        "  n = 10\n",
        "  for i in range (2,n):\n",
        "    if n % i == 0:\n",
        "      isPrime = False\n",
        "  if isPrime:\n",
        "    print (n) \n",
        "\n",
        "primeList = [n for n in range (2,100) if isprime (n)]\n",
        "print(primeList)"
      ],
      "metadata": {
        "id": "X16d3RMa7y4i"
      },
      "execution_count": null,
      "outputs": []
    },
    {
      "cell_type": "code",
      "source": [
        "#fibo (fibonacci)\n",
        "fibo = 0, 1, 1, 2, 3, 5, 8, 13, ... #first numbers are 0 and 1 --> then add the two previous numbers e.g. 2 = 1+1"
      ],
      "metadata": {
        "id": "rdW_Tcxu9ITc"
      },
      "execution_count": null,
      "outputs": []
    },
    {
      "cell_type": "code",
      "source": [
        "fibo = []\n",
        "fibo.append(1)\n",
        "fibo.append(1)\n",
        "for i in range (10):\n",
        "  fibo.append(fibo[i+1] + fibo[i])\n",
        "print(fibo)"
      ],
      "metadata": {
        "colab": {
          "base_uri": "https://localhost:8080/"
        },
        "id": "mLAKbQK13YxA",
        "outputId": "a512908c-c47c-4c38-b92e-3800612b42bb"
      },
      "execution_count": null,
      "outputs": [
        {
          "output_type": "stream",
          "name": "stdout",
          "text": [
            "[1, 1, 2, 3, 5, 8, 13, 21, 34, 55, 89, 144]\n"
          ]
        }
      ]
    },
    {
      "cell_type": "code",
      "source": [
        "#sum\n",
        "\n",
        "def sum(l):\n",
        "  s = 0\n",
        "  for e in l:\n",
        "    s += e\n",
        "  return s \n",
        "\n",
        "sum([1,2,3,4])"
      ],
      "metadata": {
        "id": "bnJLFTjH7qwd"
      },
      "execution_count": null,
      "outputs": []
    },
    {
      "cell_type": "code",
      "source": [
        "# Write a Python program to sum all the items in a list\n",
        "\n",
        "list = [1,2,3,4,5]\n",
        "print(sum(list))"
      ],
      "metadata": {
        "id": "X9pRMe8xCOqV"
      },
      "execution_count": null,
      "outputs": []
    },
    {
      "cell_type": "code",
      "source": [
        "l = [2,4,6,8,10]\n",
        "s = 0\n",
        "for i in range(len(l)):\n",
        "  s += l[i]\n",
        "print(s)"
      ],
      "metadata": {
        "id": "TTCYV5znCSGI"
      },
      "execution_count": null,
      "outputs": []
    },
    {
      "cell_type": "code",
      "source": [
        "# product\n",
        "\n",
        "def product(l):\n",
        "  p = 1\n",
        "  for e in l:\n",
        "    p *= e\n",
        "    return p\n",
        "\n",
        "product([1,2,3,4])"
      ],
      "metadata": {
        "colab": {
          "base_uri": "https://localhost:8080/"
        },
        "id": "nO4N58Dsd6gn",
        "outputId": "1233d658-adf8-4751-85e0-7757f4ccf524"
      },
      "execution_count": null,
      "outputs": [
        {
          "output_type": "execute_result",
          "data": {
            "text/plain": [
              "1"
            ]
          },
          "metadata": {},
          "execution_count": 21
        }
      ]
    },
    {
      "cell_type": "code",
      "source": [
        "for i in range (0,7):\n",
        " if i != 3 and i != 6:\n",
        "   print (1 * i)"
      ],
      "metadata": {
        "colab": {
          "base_uri": "https://localhost:8080/"
        },
        "id": "UTBCLLYS71qP",
        "outputId": "bc776ab8-f479-4f56-cb04-0ae43daf7b3f"
      },
      "execution_count": null,
      "outputs": [
        {
          "output_type": "stream",
          "name": "stdout",
          "text": [
            "0\n",
            "1\n",
            "2\n",
            "4\n",
            "5\n"
          ]
        }
      ]
    },
    {
      "cell_type": "code",
      "source": [
        "# Write a Python program to multiply all the items in a list\n",
        "\n",
        "l = [2,4,6,8,10]\n",
        "m = 1\n",
        "for i in range(len(l)):\n",
        "  m *= l[i]\n",
        "print(m)"
      ],
      "metadata": {
        "id": "6wM170qsCUUD"
      },
      "execution_count": null,
      "outputs": []
    },
    {
      "cell_type": "code",
      "source": [
        "# quotient\n",
        "print (248 // 100)"
      ],
      "metadata": {
        "colab": {
          "base_uri": "https://localhost:8080/"
        },
        "id": "HHjyLmHk3pWC",
        "outputId": "a44aa74b-7e72-4e5e-a10c-00f8d27882ff"
      },
      "execution_count": null,
      "outputs": [
        {
          "output_type": "stream",
          "name": "stdout",
          "text": [
            "2\n"
          ]
        }
      ]
    },
    {
      "cell_type": "code",
      "source": [
        "#division \n",
        "\n",
        "for x in range (1500,2701):\n",
        "  if x % 7 == 0 and x % 5 == 0:\n",
        "    print (x) "
      ],
      "metadata": {
        "colab": {
          "base_uri": "https://localhost:8080/"
        },
        "id": "B08pndSk-xFD",
        "outputId": "36b99e1e-0405-4959-d878-e335c30580d9"
      },
      "execution_count": null,
      "outputs": [
        {
          "output_type": "stream",
          "name": "stdout",
          "text": [
            "1505\n",
            "1540\n",
            "1575\n",
            "1610\n",
            "1645\n",
            "1680\n",
            "1715\n",
            "1750\n",
            "1785\n",
            "1820\n",
            "1855\n",
            "1890\n",
            "1925\n",
            "1960\n",
            "1995\n",
            "2030\n",
            "2065\n",
            "2100\n",
            "2135\n",
            "2170\n",
            "2205\n",
            "2240\n",
            "2275\n",
            "2310\n",
            "2345\n",
            "2380\n",
            "2415\n",
            "2450\n",
            "2485\n",
            "2520\n",
            "2555\n",
            "2590\n",
            "2625\n",
            "2660\n",
            "2695\n"
          ]
        }
      ]
    },
    {
      "cell_type": "code",
      "source": [
        "# mean\n",
        "\n",
        "def mean(l):\n",
        "  s = 0\n",
        "  for e in l:\n",
        "    s += e\n",
        "  return s/len(l)\n",
        "print(mean([1,2,3,4])) "
      ],
      "metadata": {
        "colab": {
          "base_uri": "https://localhost:8080/"
        },
        "id": "A9W_tebmd7LH",
        "outputId": "291eb4c3-8e8b-4b71-aae1-3e002604c6d1"
      },
      "execution_count": null,
      "outputs": [
        {
          "output_type": "stream",
          "name": "stdout",
          "text": [
            "2.5\n"
          ]
        }
      ]
    },
    {
      "cell_type": "code",
      "source": [
        "# median\n",
        "\n",
        "l = [1,2,3,4,5]\n",
        "def median(l):\n",
        "  return l[int(len(l)/2)]\n",
        "print(median([1,2,3,4,5]))"
      ],
      "metadata": {
        "colab": {
          "base_uri": "https://localhost:8080/"
        },
        "id": "BFUIGktbd8V_",
        "outputId": "6ed834be-c0bf-4134-a7dd-2b1e608061eb"
      },
      "execution_count": null,
      "outputs": [
        {
          "output_type": "stream",
          "name": "stdout",
          "text": [
            "3\n"
          ]
        }
      ]
    },
    {
      "cell_type": "code",
      "source": [
        "# quantiles [1st, 2nd, 3rd, 4th]\n",
        "\n",
        "def quantiles(l):\n",
        "  a = l[int(len(l)*0.25)]\n",
        "  b = l[int(len(l)*0.5)]  \n",
        "  c = l[int(len(l)*0.75)]\n",
        "  d = l[int(len(l)-1)]\n",
        "  q = [a,b,c,d]\n",
        "  return q\n",
        "\n",
        "quantiles([1,1,1,2,2,2,3,3,3,4,4,4])"
      ],
      "metadata": {
        "colab": {
          "base_uri": "https://localhost:8080/"
        },
        "id": "o6hi8gLgd8vo",
        "outputId": "e6cac3da-67bd-44b6-c8cb-632679207c02"
      },
      "execution_count": null,
      "outputs": [
        {
          "output_type": "execute_result",
          "data": {
            "text/plain": [
              "[2, 3, 4, 4]"
            ]
          },
          "metadata": {},
          "execution_count": 42
        }
      ]
    },
    {
      "cell_type": "code",
      "source": [
        "# arithmetic mean \n",
        "\n",
        "def arithmeticmean(l):\n",
        "  s = 1\n",
        "  for e in l:\n",
        "    s += e\n",
        "  return s/len(l)\n",
        "print(arithmeticmean([1,2,3,4]))"
      ],
      "metadata": {
        "colab": {
          "base_uri": "https://localhost:8080/"
        },
        "id": "cnxg1u65d_AL",
        "outputId": "a58e0907-b6db-4a08-efc9-9d334465f711"
      },
      "execution_count": null,
      "outputs": [
        {
          "output_type": "stream",
          "name": "stdout",
          "text": [
            "2.75\n"
          ]
        }
      ]
    },
    {
      "cell_type": "code",
      "source": [
        "# geometric mean\n",
        "\n",
        "import math \n",
        "\n",
        "def geometricmean(l):\n",
        "  s = 1\n",
        "  for e in l:\n",
        "    s *= e\n",
        "  return math.sqrt(s)\n",
        "print(geometricmean([1,2,3,4]))"
      ],
      "metadata": {
        "colab": {
          "base_uri": "https://localhost:8080/"
        },
        "id": "eWveP6RmmsNK",
        "outputId": "b67bfe45-e45d-4655-841d-c1f6afadf38f"
      },
      "execution_count": null,
      "outputs": [
        {
          "output_type": "stream",
          "name": "stdout",
          "text": [
            "4.898979485566356\n"
          ]
        }
      ]
    },
    {
      "cell_type": "code",
      "source": [
        "# harmonic mean: 2ab/a+b\n",
        "\n",
        "def harmonicmean(l):\n",
        "  return 2*l[0]*l[1]/(l[0]+l[1])\n",
        "\n",
        "harmonic mean([3,5])"
      ],
      "metadata": {
        "id": "GbXJUt1OoUnH"
      },
      "execution_count": null,
      "outputs": []
    },
    {
      "cell_type": "code",
      "source": [
        "# harmonic sum \n",
        "\n",
        "def harmonicsum(l):\n",
        "  s = 0\n",
        "  for i in range(len(l)):\n",
        "    s += l/l[i]\n",
        "  return s"
      ],
      "metadata": {
        "id": "XZSLvcyywp52"
      },
      "execution_count": null,
      "outputs": []
    },
    {
      "cell_type": "code",
      "source": [
        "# variance \n",
        "\n",
        "def variance(l):\n",
        "  mean = sum(l)/len(l)\n",
        "  s = 0\n",
        "  for i in range(len(l)):\n",
        "    s += (l[i] - mean)**2\n",
        "  return s / len(l)\n",
        "\n",
        "  variance([1,2,3,4])"
      ],
      "metadata": {
        "id": "KprutIxDxh9i"
      },
      "execution_count": null,
      "outputs": []
    },
    {
      "cell_type": "code",
      "source": [
        "# standard deviation \n",
        "\n",
        "import math \n",
        "def standarddeviation(l):\n",
        "  var = variance(l)\n",
        "  return math.squr(var)\n",
        "\n",
        "standarddeviation([1,2,3,4])"
      ],
      "metadata": {
        "id": "7yIGtsX2xi3E"
      },
      "execution_count": null,
      "outputs": []
    },
    {
      "cell_type": "code",
      "source": [
        "#float and integer \n",
        "\n",
        "float (3) #number w/ integer\n",
        "\n",
        "int (3.9) #number w/o integer "
      ],
      "metadata": {
        "colab": {
          "base_uri": "https://localhost:8080/"
        },
        "id": "lj2KrU8v8ukW",
        "outputId": "61baf406-fff4-4244-f351-cd8b943beea2"
      },
      "execution_count": null,
      "outputs": [
        {
          "output_type": "execute_result",
          "data": {
            "text/plain": [
              "3"
            ]
          },
          "metadata": {},
          "execution_count": 57
        }
      ]
    },
    {
      "cell_type": "code",
      "source": [
        "float (3)"
      ],
      "metadata": {
        "colab": {
          "base_uri": "https://localhost:8080/"
        },
        "id": "g8wtTNHb35QH",
        "outputId": "84a56910-e7b2-4d08-9f0f-dbcd3ab51f62"
      },
      "execution_count": null,
      "outputs": [
        {
          "output_type": "execute_result",
          "data": {
            "text/plain": [
              "3.0"
            ]
          },
          "metadata": {},
          "execution_count": 17
        }
      ]
    },
    {
      "cell_type": "code",
      "source": [
        "int (3.8)"
      ],
      "metadata": {
        "colab": {
          "base_uri": "https://localhost:8080/"
        },
        "id": "TaaepezA36G_",
        "outputId": "59f72099-51fe-42eb-b02a-ef549df081bc"
      },
      "execution_count": null,
      "outputs": [
        {
          "output_type": "execute_result",
          "data": {
            "text/plain": [
              "3"
            ]
          },
          "metadata": {},
          "execution_count": 18
        }
      ]
    },
    {
      "cell_type": "code",
      "source": [
        "print (3**2)"
      ],
      "metadata": {
        "colab": {
          "base_uri": "https://localhost:8080/"
        },
        "id": "YpAnZcD639Xu",
        "outputId": "918bf2ab-3d2c-406b-ae63-f81215910ee0"
      },
      "execution_count": null,
      "outputs": [
        {
          "output_type": "stream",
          "name": "stdout",
          "text": [
            "9\n"
          ]
        }
      ]
    },
    {
      "cell_type": "code",
      "source": [
        "print (4%2)"
      ],
      "metadata": {
        "colab": {
          "base_uri": "https://localhost:8080/"
        },
        "id": "Gv4I7FUk4AMz",
        "outputId": "78ce12cc-6cd9-4427-ace2-a430485315f0"
      },
      "execution_count": null,
      "outputs": [
        {
          "output_type": "stream",
          "name": "stdout",
          "text": [
            "0\n"
          ]
        }
      ]
    },
    {
      "cell_type": "code",
      "source": [
        "print (4%3)"
      ],
      "metadata": {
        "colab": {
          "base_uri": "https://localhost:8080/"
        },
        "id": "DC3_vP2Y4B-j",
        "outputId": "9ab89352-1ea8-46c6-d9d8-b4db771dc1f3"
      },
      "execution_count": null,
      "outputs": [
        {
          "output_type": "stream",
          "name": "stdout",
          "text": [
            "1\n"
          ]
        }
      ]
    },
    {
      "cell_type": "code",
      "source": [
        "print (76-75)"
      ],
      "metadata": {
        "colab": {
          "base_uri": "https://localhost:8080/"
        },
        "id": "nouY5o2q4DY1",
        "outputId": "fefecf6c-b505-4119-a034-06b5647aaa0d"
      },
      "execution_count": null,
      "outputs": [
        {
          "output_type": "stream",
          "name": "stdout",
          "text": [
            "1\n"
          ]
        }
      ]
    },
    {
      "cell_type": "code",
      "source": [
        "n1 = 3 \n",
        "n2 = 4 \n",
        "print (n1 ** n2)"
      ],
      "metadata": {
        "colab": {
          "base_uri": "https://localhost:8080/"
        },
        "id": "-bU4Ty2u4Emu",
        "outputId": "8b939cfa-a48c-4af9-be4d-71d6ecc30090"
      },
      "execution_count": null,
      "outputs": [
        {
          "output_type": "stream",
          "name": "stdout",
          "text": [
            "81\n"
          ]
        }
      ]
    },
    {
      "cell_type": "code",
      "source": [
        "radius = 2\n",
        "radius += 1\n",
        "print (radius)"
      ],
      "metadata": {
        "colab": {
          "base_uri": "https://localhost:8080/"
        },
        "id": "WgUiB1jd4Fwr",
        "outputId": "e14b1be0-7ae6-47e8-945d-263347c07b22"
      },
      "execution_count": null,
      "outputs": [
        {
          "output_type": "stream",
          "name": "stdout",
          "text": [
            "3\n"
          ]
        }
      ]
    },
    {
      "cell_type": "code",
      "source": [
        "pi = 3.14 \n",
        "radius = 2 \n",
        "area = pi*(radius**2)\n",
        "radius += 1\n",
        "print (area)"
      ],
      "metadata": {
        "colab": {
          "base_uri": "https://localhost:8080/"
        },
        "id": "6Dbkahe_4Hbg",
        "outputId": "293e9782-6557-4da7-daf8-c58c25a9192b"
      },
      "execution_count": null,
      "outputs": [
        {
          "output_type": "stream",
          "name": "stdout",
          "text": [
            "12.56\n"
          ]
        }
      ]
    },
    {
      "cell_type": "code",
      "source": [
        "s1 = input()\n",
        "print (5*s1)"
      ],
      "metadata": {
        "colab": {
          "base_uri": "https://localhost:8080/"
        },
        "id": "A2c5vYos4Ib_",
        "outputId": "44d2f819-5e76-41bf-e852-7786b19a8e04"
      },
      "execution_count": null,
      "outputs": [
        {
          "output_type": "stream",
          "name": "stdout",
          "text": [
            "3\n",
            "33333\n"
          ]
        }
      ]
    },
    {
      "cell_type": "code",
      "source": [
        "s2 = input (\"write anything...\")\n",
        "print (5*s2)"
      ],
      "metadata": {
        "colab": {
          "base_uri": "https://localhost:8080/"
        },
        "id": "5gZwQjn34JWq",
        "outputId": "2d3e5652-0252-42bf-adc7-f7816ec90dfe"
      },
      "execution_count": null,
      "outputs": [
        {
          "output_type": "stream",
          "name": "stdout",
          "text": [
            "write anything...1\n",
            "11111\n"
          ]
        }
      ]
    },
    {
      "cell_type": "code",
      "source": [
        "i = 3 \n",
        "j = 4\n",
        "\n",
        "print (i!=j)\n",
        "print (i<=j)\n",
        "print (i>=j)"
      ],
      "metadata": {
        "colab": {
          "base_uri": "https://localhost:8080/"
        },
        "id": "zsf17quD4KdN",
        "outputId": "36084be6-fd71-4e7f-e7e1-064a6fc504a8"
      },
      "execution_count": null,
      "outputs": [
        {
          "output_type": "stream",
          "name": "stdout",
          "text": [
            "True\n",
            "True\n",
            "False\n"
          ]
        }
      ]
    },
    {
      "cell_type": "code",
      "source": [
        "x = int(input())\n",
        "\n",
        "if x % 5 == 0:\n",
        "  print (\"!\")\n",
        "\n",
        "else:\n",
        "  print (\"#\")"
      ],
      "metadata": {
        "colab": {
          "base_uri": "https://localhost:8080/"
        },
        "id": "4FxpVdWS4Po9",
        "outputId": "46bbf7a5-7180-4bff-af98-a490f6384249"
      },
      "execution_count": null,
      "outputs": [
        {
          "output_type": "stream",
          "name": "stdout",
          "text": [
            "10\n",
            "!\n"
          ]
        }
      ]
    },
    {
      "cell_type": "code",
      "source": [
        "x = []\n",
        "for i in range(10):         #0 2 4 6 8. do not include 10 \n",
        "  if i % 2 == 0:\n",
        "    x.append(i*i)\n",
        "x"
      ],
      "metadata": {
        "id": "Z55bGhQv8_3p",
        "colab": {
          "base_uri": "https://localhost:8080/"
        },
        "outputId": "24008fb3-fe5d-42c7-d782-1d28d7b59722"
      },
      "execution_count": 67,
      "outputs": [
        {
          "output_type": "execute_result",
          "data": {
            "text/plain": [
              "[0, 4, 16, 36, 64]"
            ]
          },
          "metadata": {},
          "execution_count": 67
        }
      ]
    },
    {
      "cell_type": "code",
      "source": [
        "x = [i*i for i in range(10) if i % 2 == 0]\n",
        "x"
      ],
      "metadata": {
        "id": "qljIL4aD9BPL",
        "colab": {
          "base_uri": "https://localhost:8080/"
        },
        "outputId": "bb526bf7-7a6a-4e4c-9d39-b0220666f0e4"
      },
      "execution_count": 68,
      "outputs": [
        {
          "output_type": "execute_result",
          "data": {
            "text/plain": [
              "[0, 4, 16, 36, 64]"
            ]
          },
          "metadata": {},
          "execution_count": 68
        }
      ]
    },
    {
      "cell_type": "code",
      "source": [
        "n1 = 1 \n",
        "for i in range (1,4):\n",
        "  print (n1 + i)"
      ],
      "metadata": {
        "colab": {
          "base_uri": "https://localhost:8080/"
        },
        "id": "35HC5xkk4Qw8",
        "outputId": "241f349c-8bd7-4b09-8abd-ae9ca1455b34"
      },
      "execution_count": null,
      "outputs": [
        {
          "output_type": "stream",
          "name": "stdout",
          "text": [
            "2\n",
            "3\n",
            "4\n"
          ]
        }
      ]
    },
    {
      "cell_type": "code",
      "source": [
        "n2 = 1\n",
        "for i in range (1,4):\n",
        "  i += 1 \n",
        "  print (n2 + i)"
      ],
      "metadata": {
        "colab": {
          "base_uri": "https://localhost:8080/"
        },
        "id": "kDTChsDq4SSH",
        "outputId": "6b510359-8939-4768-e431-cc87f50100fc"
      },
      "execution_count": null,
      "outputs": [
        {
          "output_type": "stream",
          "name": "stdout",
          "text": [
            "3\n",
            "4\n",
            "5\n"
          ]
        }
      ]
    },
    {
      "cell_type": "code",
      "source": [
        "n1 = 2 \n",
        "n2 = 3 \n",
        "print (n1+n2)"
      ],
      "metadata": {
        "colab": {
          "base_uri": "https://localhost:8080/"
        },
        "id": "h-NPPP_A4TnL",
        "outputId": "d21e6271-f90b-450b-f0b2-3924cbd2834a"
      },
      "execution_count": null,
      "outputs": [
        {
          "output_type": "stream",
          "name": "stdout",
          "text": [
            "5\n"
          ]
        }
      ]
    },
    {
      "cell_type": "code",
      "source": [
        "l1 = [1,2,3]\n",
        "l2 = [1,2,3,4,5]\n",
        "l3 = [1,2,3,4,5,6,7]\n",
        "\n",
        "sum = 0 \n",
        "for i in range(len(l2)):\n",
        "  sum += l2[i]\n",
        "print(sum)"
      ],
      "metadata": {
        "colab": {
          "base_uri": "https://localhost:8080/"
        },
        "id": "fnoREVUM4U0N",
        "outputId": "ceec4014-e17a-4357-e01e-5190c96c1217"
      },
      "execution_count": null,
      "outputs": [
        {
          "output_type": "stream",
          "name": "stdout",
          "text": [
            "15\n"
          ]
        }
      ]
    },
    {
      "cell_type": "code",
      "source": [
        "x = [i*i for i in range (10) if i % 2 == 0]\n",
        "x"
      ],
      "metadata": {
        "colab": {
          "base_uri": "https://localhost:8080/"
        },
        "id": "tsZ3IxLl7IrG",
        "outputId": "4eb70841-8b41-40d8-e49f-e68ab36f6550"
      },
      "execution_count": null,
      "outputs": [
        {
          "output_type": "execute_result",
          "data": {
            "text/plain": [
              "[0, 4, 16, 36, 64]"
            ]
          },
          "metadata": {},
          "execution_count": 46
        }
      ]
    },
    {
      "cell_type": "code",
      "source": [
        "l1 = [0,0,0,0,0]\n",
        "l2 = [1,2,3,4,5]\n",
        "\n",
        "b = True\n",
        "for i in range(len(l2)):\n",
        "  if l2[i] != sum(l2[0:i+1]):\n",
        "    b = False\n",
        "print(b)"
      ],
      "metadata": {
        "id": "Kwhi4YVI78vt"
      },
      "execution_count": null,
      "outputs": []
    },
    {
      "cell_type": "code",
      "source": [
        "def calc_sum(l):\n",
        "  sum = ''\n",
        "  for i in range(len(l)):\n",
        "    sum += l[i]\n",
        "  print(sum)"
      ],
      "metadata": {
        "id": "mbWs72D64WAw"
      },
      "execution_count": null,
      "outputs": []
    },
    {
      "cell_type": "code",
      "source": [
        "#random\n",
        "\n",
        "import random\n",
        "randNum = random.randint (1,200)\n",
        "\n",
        "if randNum <= 100:\n",
        "  print (\"haha\")\n",
        "\n",
        "else:\n",
        "  print (\"hoho\")\n",
        "\n",
        "#if\n",
        "#elif\n",
        "#else"
      ],
      "metadata": {
        "id": "B7GOCRyh8494"
      },
      "execution_count": null,
      "outputs": []
    },
    {
      "cell_type": "code",
      "source": [
        "import random \n",
        "randNum = random.randint (1,100)\n",
        "y = int(input())"
      ],
      "metadata": {
        "colab": {
          "base_uri": "https://localhost:8080/"
        },
        "id": "OB-1DoZY4Leu",
        "outputId": "1f732eee-e7dc-45a6-9a6c-487ba6f550e1"
      },
      "execution_count": null,
      "outputs": [
        {
          "name": "stdout",
          "output_type": "stream",
          "text": [
            "9\n"
          ]
        }
      ]
    },
    {
      "cell_type": "code",
      "source": [
        "import random \n",
        "randNum = random.randint (1,200)\n",
        "\n",
        "if randNum < 100:\n",
        "  print (\"the number is smaller than 100\")\n",
        "\n",
        "else:\n",
        "  print (\"the number is larger than 100\")"
      ],
      "metadata": {
        "colab": {
          "base_uri": "https://localhost:8080/"
        },
        "id": "EVFpv7SK4Muu",
        "outputId": "1bb5540b-0abf-4404-d1c8-a546e3ae0889"
      },
      "execution_count": null,
      "outputs": [
        {
          "output_type": "stream",
          "name": "stdout",
          "text": [
            "the number is larger than 100\n"
          ]
        }
      ]
    },
    {
      "cell_type": "code",
      "source": [
        "import random \n",
        "randNum = random.randint (1,150)\n",
        "if 0 < randNum < 50:\n",
        "  print (\"yes!\")\n",
        "\n",
        "elif 50< randNum < 100:\n",
        "  print (\"yess!\")\n",
        "\n",
        "else:\n",
        "  print (\"no!\")"
      ],
      "metadata": {
        "colab": {
          "base_uri": "https://localhost:8080/"
        },
        "id": "qFzHeCZy4OEh",
        "outputId": "7f48dccc-aeda-49d6-e30e-7535750a8648"
      },
      "execution_count": null,
      "outputs": [
        {
          "output_type": "stream",
          "name": "stdout",
          "text": [
            "yes!\n"
          ]
        }
      ]
    },
    {
      "cell_type": "code",
      "source": [
        "import random\n",
        "\n",
        "answer = random.randint(1, 10)\n",
        "guess = 0\n",
        "\n",
        "while True:\n",
        "  guess = int(input(\"Write your number: \"))\n",
        "  if guess != answer:\n",
        "    print(\"Your guess is wrong\")\n",
        "  else:\n",
        "    print(\"Your guess is correct!\")\n",
        "    break"
      ],
      "metadata": {
        "id": "p-bl6VoEEFDs"
      },
      "execution_count": null,
      "outputs": []
    }
  ]
}